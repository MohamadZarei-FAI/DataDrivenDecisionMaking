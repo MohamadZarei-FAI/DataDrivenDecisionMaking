{
  "cells": [
    {
      "cell_type": "markdown",
      "metadata": {
        "id": "_kw7wbjYSy3t"
      },
      "source": [
        "# Business Analytics Project - 2022\n",
        "# Automobile Loan Default Dataset\n",
        "## Mohammad Zarei & Masoumeh Mahmoodi\n",
        "## Sharif University of Technology"
      ]
    },
    {
      "cell_type": "code",
      "execution_count": 1,
      "metadata": {
        "colab": {
          "base_uri": "https://localhost:8080/"
        },
        "id": "Es-OrHDOSmd2",
        "outputId": "839930ff-b835-4446-d782-22c0ffc34870",
        "vscode": {
          "languageId": "r"
        }
      },
      "outputs": [],
      "source": [
        "# installing Packages\n",
        "\n",
        "# install.packages('dplyr')\n",
        "# install.packages('Hmisc')\n",
        "# install.packages('naniar')\n",
        "# install.packages('mice')\n",
        "# install.packages('ggplot2')\n",
        "# install.packages('caTools')\n",
        "# install.packages('caret')\n",
        "# install.packages('rpart')\n",
        "# install.packages('rpart.plot')\n",
        "# install.packages('e1071')\n",
        "# install.packages('ROCR')\n",
        "# install.packages('randomForest')\n",
        "# install.packages('gains')"
      ]
    },
    {
      "cell_type": "markdown",
      "metadata": {
        "id": "hGkt2s7tiqUt"
      },
      "source": [
        "## 1. Data"
      ]
    },
    {
      "cell_type": "code",
      "execution_count": 2,
      "metadata": {
        "colab": {
          "base_uri": "https://localhost:8080/",
          "height": 373
        },
        "id": "teo1wfEisGWn",
        "outputId": "55a46049-d61f-466d-d93a-50be4e22857d",
        "vscode": {
          "languageId": "r"
        }
      },
      "outputs": [
        {
          "name": "stderr",
          "output_type": "stream",
          "text": [
            "\n",
            "Attaching package: 'dplyr'\n",
            "\n",
            "\n",
            "The following objects are masked from 'package:stats':\n",
            "\n",
            "    filter, lag\n",
            "\n",
            "\n",
            "The following objects are masked from 'package:base':\n",
            "\n",
            "    intersect, setdiff, setequal, union\n",
            "\n",
            "\n",
            "Loading required package: lattice\n",
            "\n",
            "Loading required package: survival\n",
            "\n",
            "Loading required package: Formula\n",
            "\n",
            "Loading required package: ggplot2\n",
            "\n",
            "\n",
            "Attaching package: 'Hmisc'\n",
            "\n",
            "\n",
            "The following objects are masked from 'package:dplyr':\n",
            "\n",
            "    src, summarize\n",
            "\n",
            "\n",
            "The following objects are masked from 'package:base':\n",
            "\n",
            "    format.pval, units\n",
            "\n",
            "\n",
            "\n",
            "Attaching package: 'mice'\n",
            "\n",
            "\n",
            "The following object is masked from 'package:stats':\n",
            "\n",
            "    filter\n",
            "\n",
            "\n",
            "The following objects are masked from 'package:base':\n",
            "\n",
            "    cbind, rbind\n",
            "\n",
            "\n",
            "\n",
            "Attaching package: 'caret'\n",
            "\n",
            "\n",
            "The following object is masked from 'package:survival':\n",
            "\n",
            "    cluster\n",
            "\n",
            "\n",
            "\n",
            "Attaching package: 'e1071'\n",
            "\n",
            "\n",
            "The following object is masked from 'package:Hmisc':\n",
            "\n",
            "    impute\n",
            "\n",
            "\n",
            "randomForest 4.7-1.1\n",
            "\n",
            "Type rfNews() to see new features/changes/bug fixes.\n",
            "\n",
            "\n",
            "Attaching package: 'randomForest'\n",
            "\n",
            "\n",
            "The following object is masked from 'package:ggplot2':\n",
            "\n",
            "    margin\n",
            "\n",
            "\n",
            "The following object is masked from 'package:dplyr':\n",
            "\n",
            "    combine\n",
            "\n",
            "\n"
          ]
        }
      ],
      "source": [
        "# Turning off the warnings\n",
        "options(warn=-1)\n",
        "\n",
        "# Changing the default size of the plots we are going to draw\n",
        "# options(repr.plot.width=15, repr.plot.height=8)\n",
        "\n",
        "# Importing required libraries\n",
        "library(dplyr)\n",
        "library(Hmisc)\n",
        "library(naniar)\n",
        "library(mice)\n",
        "library(ggplot2)\n",
        "library(caTools)\n",
        "library(caret)\n",
        "library(rpart)\n",
        "library(rpart.plot)\n",
        "library(e1071)\n",
        "library(ROCR)\n",
        "library(randomForest)\n",
        "library(gains)"
      ]
    },
    {
      "cell_type": "code",
      "execution_count": 3,
      "metadata": {
        "colab": {
          "base_uri": "https://localhost:8080/"
        },
        "id": "btTXIWfJjUTa",
        "outputId": "1b82af93-4e5a-4614-c52a-2186ae89cd1f",
        "vscode": {
          "languageId": "r"
        }
      },
      "outputs": [
        {
          "name": "stdout",
          "output_type": "stream",
          "text": [
            "'data.frame':\t121856 obs. of  40 variables:\n",
            " $ ID                        : int  12142509 12138936 12181264 12188929 12133385 12191614 12128086 12215264 12159147 12130547 ...\n",
            " $ Client_Income             : chr  \"6750\" \"20250\" \"18000\" \"15750\" ...\n",
            " $ Car_Owned                 : int  0 1 0 0 1 0 1 0 1 0 ...\n",
            " $ Bike_Owned                : int  0 0 0 0 0 1 1 0 1 0 ...\n",
            " $ Active_Loan               : int  1 1 1 1 1 1 0 1 0 0 ...\n",
            " $ House_Own                 : int  0 NA 0 1 0 1 1 1 1 1 ...\n",
            " $ Child_Count               : chr  \"0\" \"0\" \"1\" \"0\" ...\n",
            " $ Credit_Amount             : chr  \"61190.55\" \"15282\" \"59527.35\" \"53870.4\" ...\n",
            " $ Loan_Annuity              : chr  \"3416.85\" \"1826.55\" \"2788.2\" \"2295.45\" ...\n",
            " $ Accompany_Client          : chr  \"Alone\" \"Alone\" \"Alone\" \"Alone\" ...\n",
            " $ Client_Income_Type        : chr  \"Commercial\" \"Service\" \"Service\" \"Retired\" ...\n",
            " $ Client_Education          : chr  \"Secondary\" \"Graduation\" \"Graduation dropout\" \"Secondary\" ...\n",
            " $ Client_Marital_Status     : chr  \"M\" \"M\" \"W\" \"M\" ...\n",
            " $ Client_Gender             : chr  \"Male\" \"Male\" \"Male\" \"Male\" ...\n",
            " $ Loan_Contract_Type        : chr  \"CL\" \"CL\" \"CL\" \"CL\" ...\n",
            " $ Client_Housing_Type       : chr  \"Home\" \"Home\" \"Family\" \"Home\" ...\n",
            " $ Population_Region_Relative: chr  \"0.028663\" \"0.008575\" \"0.0228\" \"0.010556\" ...\n",
            " $ Age_Days                  : chr  \"13957\" \"14162\" \"16790\" \"23195\" ...\n",
            " $ Employed_Days             : chr  \"1062\" \"4129\" \"5102\" \"365243\" ...\n",
            " $ Registration_Days         : chr  \"6123\" \"7833\" NA NA ...\n",
            " $ ID_Days                   : chr  \"383\" \"21\" \"331\" \"775\" ...\n",
            " $ Own_House_Age             : int  NA 0 NA NA 6 NA 10 NA 14 NA ...\n",
            " $ Mobile_Tag                : int  1 1 1 1 1 1 1 1 1 1 ...\n",
            " $ Homephone_Tag             : int  1 0 0 0 0 0 0 0 0 0 ...\n",
            " $ Workphone_Working         : int  0 1 0 0 0 0 0 1 1 0 ...\n",
            " $ Client_Occupation         : chr  \"Sales\" NA \"Realty agents\" NA ...\n",
            " $ Client_Family_Members     : int  2 2 2 2 4 2 1 2 3 1 ...\n",
            " $ Cleint_City_Rating        : int  2 2 2 3 1 2 2 2 2 2 ...\n",
            " $ Application_Process_Day   : int  6 3 4 2 3 2 3 4 4 NA ...\n",
            " $ Application_Process_Hour  : chr  \"17\" \"10\" NA \"15\" ...\n",
            " $ Client_Permanent_Match_Tag: chr  \"Yes\" \"Yes\" \"Yes\" \"Yes\" ...\n",
            " $ Client_Contact_Work_Tag   : chr  \"Yes\" \"Yes\" \"Yes\" \"Yes\" ...\n",
            " $ Type_Organization         : chr  \"Self-employed\" \"Government\" \"Self-employed\" \"XNA\" ...\n",
            " $ Score_Source_1            : num  0.568 0.563 NA NA 0.508 ...\n",
            " $ Score_Source_2            : num  0.479 0.215 0.553 0.135 0.301 ...\n",
            " $ Score_Source_3            : chr  NA NA \"0.329655054\" \"0.631354537\" ...\n",
            " $ Social_Circle_Default     : num  0.0186 NA 0.0742 NA 0.2021 ...\n",
            " $ Phone_Change              : int  63 NA 277 1700 674 739 0 1687 1611 533 ...\n",
            " $ Credit_Bureau             : int  NA NA 0 3 1 0 3 4 0 5 ...\n",
            " $ Default                   : int  0 0 0 0 0 0 0 0 0 0 ...\n"
          ]
        }
      ],
      "source": [
        "# Loading Dataset\n",
        "df <- read.csv('Train_Dataset.csv', na.strings = '')\n",
        "str(df)"
      ]
    },
    {
      "cell_type": "markdown",
      "metadata": {
        "id": "C6EygpX9i3Lj"
      },
      "source": [
        "## 2. Exploratory Data Analysis (EDA)"
      ]
    },
    {
      "cell_type": "markdown",
      "metadata": {
        "id": "O8f5SHkl_eGs"
      },
      "source": [
        "### 2.1 Descriptive Statistics"
      ]
    },
    {
      "cell_type": "code",
      "execution_count": 4,
      "metadata": {
        "colab": {
          "base_uri": "https://localhost:8080/",
          "height": 1000
        },
        "id": "PiOOl0rB57xp",
        "outputId": "aa040e1c-0639-485c-dc97-1c2a11344ff5",
        "vscode": {
          "languageId": "r"
        }
      },
      "outputs": [
        {
          "data": {
            "text/plain": [
              "df \n",
              "\n",
              " 40  Variables      121856  Observations\n",
              "--------------------------------------------------------------------------------\n",
              "ID \n",
              "       n  missing distinct     Info     Mean      Gmd      .05      .10 \n",
              "  121856        0   121856        1 12160929    40619 12106094 12112187 \n",
              "     .25      .50      .75      .90      .95 \n",
              "12130465 12160929 12191392 12209671 12215763 \n",
              "\n",
              "lowest : 12100001 12100002 12100003 12100004 12100005\n",
              "highest: 12221852 12221853 12221854 12221855 12221856\n",
              "--------------------------------------------------------------------------------\n",
              "Client_Income \n",
              "       n  missing distinct     Info     Mean      Gmd      .05      .10 \n",
              "  118234     3622     1216    0.995    16865     9300     6750     8100 \n",
              "     .25      .50      .75      .90      .95 \n",
              "   11250    14400    20250    27000    33750 \n",
              "\n",
              "lowest :    2565    2610    2646    2700    2790\n",
              "highest:  382500  395006  450000  675000 1800009\n",
              "\n",
              "0 (24572, 0.208), 20000 (84854, 0.718), 40000 (7755, 0.066), 60000 (754,\n",
              "0.006), 80000 (191, 0.002), 1e+05 (14, 0.000), 120000 (32, 0.000), 140000 (24,\n",
              "0.000), 160000 (7, 0.000), 180000 (11, 0.000), 2e+05 (4, 0.000), 220000 (8,\n",
              "0.000), 340000 (1, 0.000), 380000 (1, 0.000), 4e+05 (1, 0.000), 440000 (3,\n",
              "0.000), 680000 (1, 0.000), 1800000 (1, 0.000)\n",
              "\n",
              "For the frequency table, variable is rounded to the nearest 20000\n",
              "--------------------------------------------------------------------------------\n",
              "Car_Owned \n",
              "       n  missing distinct     Info      Sum     Mean      Gmd \n",
              "  118275     3581        2    0.676    40551   0.3429   0.4506 \n",
              "\n",
              "--------------------------------------------------------------------------------\n",
              "Bike_Owned \n",
              "       n  missing distinct     Info      Sum     Mean      Gmd \n",
              "  118232     3624        2    0.666    39284   0.3323   0.4437 \n",
              "\n",
              "--------------------------------------------------------------------------------\n",
              "Active_Loan \n",
              "       n  missing distinct     Info      Sum     Mean      Gmd \n",
              "  118221     3635        2     0.75    59013   0.4992      0.5 \n",
              "\n",
              "--------------------------------------------------------------------------------\n",
              "House_Own \n",
              "       n  missing distinct     Info      Sum     Mean      Gmd \n",
              "  118195     3661        2    0.639    81798   0.6921   0.4262 \n",
              "\n",
              "--------------------------------------------------------------------------------\n",
              "Child_Count \n",
              "       n  missing distinct     Info     Mean      Gmd      .05      .10 \n",
              "  118218     3638       14    0.648   0.4178   0.6355        0        0 \n",
              "     .25      .50      .75      .90      .95 \n",
              "       0        0        1        2        2 \n",
              "\n",
              "lowest :  0  1  2  3  4, highest:  9 10 12 14 19\n",
              "                                                                            \n",
              "Value          0     1     2     3     4     5     6     7     8     9    10\n",
              "Frequency  82834 23431 10294  1430   167    34    12     4     2     1     3\n",
              "Proportion 0.701 0.198 0.087 0.012 0.001 0.000 0.000 0.000 0.000 0.000 0.000\n",
              "                            \n",
              "Value         12    14    19\n",
              "Frequency      1     4     1\n",
              "Proportion 0.000 0.000 0.000\n",
              "--------------------------------------------------------------------------------\n",
              "Credit_Amount \n",
              "       n  missing distinct     Info     Mean      Gmd      .05      .10 \n",
              "  118219     3637     4175        1    60046    43386    13651    18000 \n",
              "     .25      .50      .75      .90      .95 \n",
              "   27000    51750    80865   113890   135000 \n",
              "\n",
              "lowest :   4500.0   4797.0   4945.5   4950.0   4975.2\n",
              "highest: 315000.0 329968.8 386001.9 403103.2 405000.0\n",
              "--------------------------------------------------------------------------------\n",
              "Loan_Annuity \n",
              "       n  missing distinct     Info     Mean      Gmd      .05      .10 \n",
              "  117030     4826    10856        1     2721     1552      900     1110 \n",
              "     .25      .50      .75      .90      .95 \n",
              "    1657     2500     3467     4608     5346 \n",
              "\n",
              "lowest :   217.35   218.70   229.50   241.20   258.30\n",
              "highest: 20616.75 20646.45 20821.50 21329.10 22500.00\n",
              "--------------------------------------------------------------------------------\n",
              "Accompany_Client \n",
              "       n  missing distinct \n",
              "  120110     1746        7 \n",
              "\n",
              "lowest : ##       Alone    Group    Kids     Others  \n",
              "highest: Group    Kids     Others   Partner  Relative\n",
              "                                                                         \n",
              "Value            ##    Alone    Group     Kids   Others  Partner Relative\n",
              "Frequency        12    97409      104     1334      987     4516    15748\n",
              "Proportion    0.000    0.811    0.001    0.011    0.008    0.038    0.131\n",
              "--------------------------------------------------------------------------------\n",
              "Client_Income_Type \n",
              "       n  missing distinct \n",
              "  118155     3701        8 \n",
              "\n",
              "lowest : Businessman     Commercial      Govt Job        Maternity leave Retired        \n",
              "highest: Maternity leave Retired         Service         Student         Unemployed     \n",
              "                                                                          \n",
              "Value          Businessman      Commercial        Govt Job Maternity leave\n",
              "Frequency                1           27764            8303               2\n",
              "Proportion           0.000           0.235           0.070           0.000\n",
              "                                                                          \n",
              "Value              Retired         Service         Student      Unemployed\n",
              "Frequency            21043           61028               8               6\n",
              "Proportion           0.178           0.517           0.000           0.000\n",
              "--------------------------------------------------------------------------------\n",
              "Client_Education \n",
              "       n  missing distinct \n",
              "  118211     3645        5 \n",
              "\n",
              "lowest : Graduation         Graduation dropout Junior secondary   Post Grad          Secondary         \n",
              "highest: Graduation         Graduation dropout Junior secondary   Post Grad          Secondary         \n",
              "                                                                   \n",
              "Value              Graduation Graduation dropout   Junior secondary\n",
              "Frequency               28819               3960               1455\n",
              "Proportion              0.244              0.033              0.012\n",
              "                                                \n",
              "Value               Post Grad          Secondary\n",
              "Frequency                  66              83911\n",
              "Proportion              0.001              0.710\n",
              "--------------------------------------------------------------------------------\n",
              "Client_Marital_Status \n",
              "       n  missing distinct \n",
              "  118383     3473        4 \n",
              "                                  \n",
              "Value          D     M     S     W\n",
              "Frequency   7556 87349 17404  6074\n",
              "Proportion 0.064 0.738 0.147 0.051\n",
              "--------------------------------------------------------------------------------\n",
              "Client_Gender \n",
              "       n  missing distinct \n",
              "  119443     2413        3 \n",
              "                               \n",
              "Value      Female   Male    XNA\n",
              "Frequency   40977  78463      3\n",
              "Proportion  0.343  0.657  0.000\n",
              "--------------------------------------------------------------------------------\n",
              "Loan_Contract_Type \n",
              "       n  missing distinct \n",
              "  118205     3651        2 \n",
              "                        \n",
              "Value          CL     RL\n",
              "Frequency  107118  11087\n",
              "Proportion  0.906  0.094\n",
              "--------------------------------------------------------------------------------\n",
              "Client_Housing_Type \n",
              "       n  missing distinct \n",
              "  118169     3687        6 \n",
              "\n",
              "lowest : Family    Home      Municipal Office    Rental   \n",
              "highest: Home      Municipal Office    Rental    Shared   \n",
              "                                                                      \n",
              "Value         Family      Home Municipal    Office    Rental    Shared\n",
              "Frequency       5783    104870      4248      1002      1816       450\n",
              "Proportion     0.049     0.887     0.036     0.008     0.015     0.004\n",
              "--------------------------------------------------------------------------------\n",
              "Population_Region_Relative \n",
              "       n  missing distinct     Info     Mean      Gmd      .05      .10 \n",
              "  116988     4868       81    0.999   0.0226  0.01797 0.004960 0.006629 \n",
              "     .25      .50      .75      .90      .95 \n",
              "0.010006 0.018850 0.028663 0.035792 0.046220 \n",
              "\n",
              "lowest :   0.000533   0.000938   0.001276   0.001333   0.001417\n",
              "highest:   0.032561   0.035792   0.046220   0.072508 100.000000\n",
              "                        \n",
              "Value           0    100\n",
              "Frequency  116986      2\n",
              "Proportion      1      0\n",
              "\n",
              "For the frequency table, variable is rounded to the nearest 0.2\n",
              "--------------------------------------------------------------------------------\n",
              "Age_Days \n",
              "       n  missing distinct     Info     Mean      Gmd      .05      .10 \n",
              "  118239     3617    17000        1    16027     5032     9406    10278 \n",
              "     .25      .50      .75      .90      .95 \n",
              "   12398    15734    19661    22204    23209 \n",
              "\n",
              "lowest :  7676  7678  7679  7680  7683, highest: 25195 25196 25197 25200 25201\n",
              "--------------------------------------------------------------------------------\n",
              "Employed_Days \n",
              "       n  missing distinct     Info     Mean      Gmd      .05      .10 \n",
              "  118190     3666     9949    0.994    67154   107981      229      392 \n",
              "     .25      .50      .75      .90      .95 \n",
              "     932     2212     5634   365243   365243 \n",
              "\n",
              "lowest :      0      2      4      6      8, highest:  16678  17139  17170  17546 365243\n",
              "                                                    \n",
              "Value           0   5000  10000  15000  20000 365000\n",
              "Frequency   63842  28809   3960    479      2  21098\n",
              "Proportion  0.540  0.244  0.034  0.004  0.000  0.179\n",
              "\n",
              "For the frequency table, variable is rounded to the nearest 5000\n",
              "--------------------------------------------------------------------------------\n",
              "Registration_Days \n",
              "       n  missing distinct     Info     Mean      Gmd      .05      .10 \n",
              "  118225     3631    14142        1     4975     3968      332      686 \n",
              "     .25      .50      .75      .90      .95 \n",
              "    2008     4493     7464     9905    11384 \n",
              "\n",
              "lowest :     0     1     2     3     4, highest: 20840 21249 21865 22701 23738\n",
              "--------------------------------------------------------------------------------\n",
              "ID_Days \n",
              "       n  missing distinct     Info     Mean      Gmd      .05      .10 \n",
              "  115871     5985     5962        1     2987     1725      368      721 \n",
              "     .25      .50      .75      .90      .95 \n",
              "    1705     3242     4295     4720     4942 \n",
              "\n",
              "lowest :    0    1    2    3    4, highest: 6233 6235 6263 6274 7197\n",
              "--------------------------------------------------------------------------------\n",
              "Own_House_Age \n",
              "       n  missing distinct     Info     Mean      Gmd      .05      .10 \n",
              "   41761    80095       55    0.998    12.16    10.99        1        2 \n",
              "     .25      .50      .75      .90      .95 \n",
              "       5        9       15       23       30 \n",
              "\n",
              "lowest :  0  1  2  3  4, highest: 57 63 64 65 69\n",
              "--------------------------------------------------------------------------------\n",
              "Mobile_Tag \n",
              "        n   missing  distinct      Info       Sum      Mean       Gmd \n",
              "   121856         0         2         0    121855         1 1.641e-05 \n",
              "\n",
              "--------------------------------------------------------------------------------\n",
              "Homephone_Tag \n",
              "       n  missing distinct     Info      Sum     Mean      Gmd \n",
              "  121856        0        2    0.481    24432   0.2005   0.3206 \n",
              "\n",
              "--------------------------------------------------------------------------------\n",
              "Workphone_Working \n",
              "       n  missing distinct     Info      Sum     Mean      Gmd \n",
              "  121856        0        2    0.606    34266   0.2812   0.4043 \n",
              "\n",
              "--------------------------------------------------------------------------------\n",
              "Client_Occupation \n",
              "       n  missing distinct \n",
              "   80421    41435       18 \n",
              "\n",
              "lowest : Accountants    Cleaning       Cooking        Core           Drivers       \n",
              "highest: Realty agents  Sales          Secretaries    Security       Waiters/barmen\n",
              "--------------------------------------------------------------------------------\n",
              "Client_Family_Members \n",
              "       n  missing distinct     Info     Mean      Gmd      .05      .10 \n",
              "  119446     2410       15    0.846    2.154   0.9326        1        1 \n",
              "     .25      .50      .75      .90      .95 \n",
              "       2        2        3        3        4 \n",
              "\n",
              "lowest :  1  2  3  4  5, highest: 12 13 14 15 16\n",
              "                                                                            \n",
              "Value          1     2     3     4     5     6     7     8     9    10    12\n",
              "Frequency  26213 61652 20434  9583  1349   157    32    11     4     3     3\n",
              "Proportion 0.219 0.516 0.171 0.080 0.011 0.001 0.000 0.000 0.000 0.000 0.000\n",
              "                                  \n",
              "Value         13    14    15    16\n",
              "Frequency      1     1     1     2\n",
              "Proportion 0.000 0.000 0.000 0.000\n",
              "--------------------------------------------------------------------------------\n",
              "Cleint_City_Rating \n",
              "       n  missing distinct     Info     Mean      Gmd \n",
              "  119447     2409        3    0.583     2.03   0.4446 \n",
              "                            \n",
              "Value          1     2     3\n",
              "Frequency  13455 88949 17043\n",
              "Proportion 0.113 0.745 0.143\n",
              "--------------------------------------------------------------------------------\n",
              "Application_Process_Day \n",
              "       n  missing distinct     Info     Mean      Gmd \n",
              "  119428     2428        7    0.975     3.16    2.003 \n",
              "\n",
              "lowest : 0 1 2 3 4, highest: 2 3 4 5 6\n",
              "                                                    \n",
              "Value          0     1     2     3     4     5     6\n",
              "Frequency   6287 19712 20907 20116 19668 19613 13125\n",
              "Proportion 0.053 0.165 0.175 0.168 0.165 0.164 0.110\n",
              "--------------------------------------------------------------------------------\n",
              "Application_Process_Hour \n",
              "       n  missing distinct     Info     Mean      Gmd      .05      .10 \n",
              "  118193     3663       24    0.991    12.06      3.7        7        8 \n",
              "     .25      .50      .75      .90      .95 \n",
              "      10       12       14       16       17 \n",
              "\n",
              "lowest :  0  1  2  3  4, highest: 19 20 21 22 23\n",
              "--------------------------------------------------------------------------------\n",
              "Client_Permanent_Match_Tag \n",
              "       n  missing distinct \n",
              "  121856        0        2 \n",
              "                        \n",
              "Value          No    Yes\n",
              "Frequency    9402 112454\n",
              "Proportion  0.077  0.923\n",
              "--------------------------------------------------------------------------------\n",
              "Client_Contact_Work_Tag \n",
              "       n  missing distinct \n",
              "  121856        0        2 \n",
              "                        \n",
              "Value          No    Yes\n",
              "Frequency   21841 100015\n",
              "Proportion  0.179  0.821\n",
              "--------------------------------------------------------------------------------\n",
              "Type_Organization \n",
              "       n  missing distinct \n",
              "  118247     3609       58 \n",
              "\n",
              "lowest : Advertising            Agriculture            Bank                   Business Entity Type 1 Business Entity Type 2\n",
              "highest: Transport: type 2      Transport: type 3      Transport: type 4      University             XNA                   \n",
              "--------------------------------------------------------------------------------\n",
              "Score_Source_1 \n",
              "       n  missing distinct     Info     Mean      Gmd      .05      .10 \n",
              "   53021    68835    43968        1   0.5012   0.2433   0.1579   0.2107 \n",
              "     .25      .50      .75      .90      .95 \n",
              "  0.3335   0.5047   0.6739   0.7859   0.8314 \n",
              "\n",
              "lowest : 0.01456813 0.01717654 0.01739441 0.01789680 0.01833356\n",
              "highest: 0.94165215 0.94233319 0.94268045 0.94398224 0.94574129\n",
              "--------------------------------------------------------------------------------\n",
              "Score_Source_2 \n",
              "       n  missing distinct     Info     Mean      Gmd      .05      .10 \n",
              "  116170     5686    67016        1   0.5186   0.2234   0.1321   0.2128 \n",
              "     .25      .50      .75      .90      .95 \n",
              "  0.3902   0.5650   0.6640   0.7223   0.7480 \n",
              "\n",
              "lowest :   0.0000050   0.0000164   0.0000167   0.0000169   0.0000238\n",
              "highest:   0.8204871   0.8206095   0.8213936   0.8549997 100.0000000\n",
              "                            \n",
              "Value          0     1   100\n",
              "Frequency  44542 71622     6\n",
              "Proportion 0.383 0.617 0.000\n",
              "\n",
              "For the frequency table, variable is rounded to the nearest 1\n",
              "--------------------------------------------------------------------------------\n",
              "Score_Source_3 \n",
              "       n  missing distinct     Info     Mean      Gmd      .05      .10 \n",
              "   94934    26922      771        1   0.5112   0.2214   0.1547   0.2289 \n",
              "     .25      .50      .75      .90      .95 \n",
              "  0.3723   0.5371   0.6675   0.7490   0.7863 \n",
              "\n",
              "lowest : 0.000527265 0.017016872 0.018658422 0.020167989 0.021491516\n",
              "highest: 0.881026575 0.882530313 0.885488394 0.893976075 0.896009549\n",
              "--------------------------------------------------------------------------------\n",
              "Social_Circle_Default \n",
              "       n  missing distinct     Info     Mean      Gmd      .05      .10 \n",
              "   59928    61928     1882        1   0.1174   0.1027   0.0082   0.0165 \n",
              "     .25      .50      .75      .90      .95 \n",
              "  0.0577   0.0887   0.1485   0.2392   0.3258 \n",
              "\n",
              "lowest : 0.0000 0.0010 0.0015 0.0021 0.0024, highest: 0.9804 0.9814 0.9876 0.9907 1.0000\n",
              "--------------------------------------------------------------------------------\n",
              "Phone_Change \n",
              "       n  missing distinct     Info     Mean      Gmd      .05      .10 \n",
              "  118192     3664     3590    0.998    962.1    924.7        0        0 \n",
              "     .25      .50      .75      .90      .95 \n",
              "     272      755     1570     2164     2522 \n",
              "\n",
              "lowest :    0    1    2    3    4, highest: 4092 4121 4128 4153 4185\n",
              "--------------------------------------------------------------------------------\n",
              "Credit_Bureau \n",
              "       n  missing distinct     Info     Mean      Gmd      .05      .10 \n",
              "  103316    18540       21    0.957    1.891    1.968        0        0 \n",
              "     .25      .50      .75      .90      .95 \n",
              "       0        1        3        4        6 \n",
              "\n",
              "lowest :  0  1  2  3  4, highest: 16 17 19 21 22\n",
              "--------------------------------------------------------------------------------\n",
              "Default \n",
              "       n  missing distinct     Info      Sum     Mean      Gmd \n",
              "  121856        0        2    0.223     9845  0.08079   0.1485 \n",
              "\n",
              "--------------------------------------------------------------------------------"
            ]
          },
          "metadata": {},
          "output_type": "display_data"
        }
      ],
      "source": [
        "# Specifying Numerical Variables\n",
        "cols <- c(2, 7:9, 17:21, 30, 36)\n",
        "df[cols] <- lapply(df[cols], as.numeric)\n",
        "\n",
        "# Descriptive Statistics\n",
        "describe(df)"
      ]
    },
    {
      "cell_type": "markdown",
      "metadata": {
        "id": "21w3YbNX_3CC"
      },
      "source": [
        "### 2.2 Univariate Analysis"
      ]
    },
    {
      "cell_type": "code",
      "execution_count": 5,
      "metadata": {
        "colab": {
          "base_uri": "https://localhost:8080/",
          "height": 437
        },
        "id": "Lexq2MGE_9oR",
        "outputId": "04110e3b-519a-4071-fff7-2cc98cc39f9b",
        "vscode": {
          "languageId": "r"
        }
      },
      "outputs": [
        {
          "data": {
            "image/png": "[encoded data removed]",
            "text/plain": [
              "plot without title"
            ]
          },
          "metadata": {
            "image/png": {
              "height": 420,
              "width": 420
            }
          },
          "output_type": "display_data"
        }
      ],
      "source": [
        "# Default Variable\n",
        "# Bar chart\n",
        "ggplot(df, aes(x= Default)) + \n",
        "  geom_bar(aes(y = ..prop.., fill = factor(..x..)), stat=\"count\") +\n",
        "  geom_text(aes( label = scales::percent(..prop..),\n",
        "                 y= ..prop.. ), stat= \"count\", vjust = 1.6) +\n",
        "  labs(y = \"Percent\", fill=\"Default\") +\n",
        "  scale_y_continuous(labels = scales::percent) + \n",
        "  scale_fill_discrete( labels = c('No', 'Yes')) +\n",
        "  ggtitle(\"Default Variable\")\n"
      ]
    },
    {
      "cell_type": "markdown",
      "metadata": {
        "id": "zzaCdBhKALFx"
      },
      "source": [
        "## 3. Data Preprocessing"
      ]
    },
    {
      "cell_type": "markdown",
      "metadata": {
        "id": "h4cNZzycAQuW"
      },
      "source": [
        "### 3.1 Outliers"
      ]
    },
    {
      "cell_type": "code",
      "execution_count": 6,
      "metadata": {
        "id": "tkKNeZqRAFdm",
        "vscode": {
          "languageId": "r"
        }
      },
      "outputs": [],
      "source": [
        "# Outlier Function\n",
        "outliers <- function(var) {\n",
        "  boxplot(var, plot = FALSE)$out\n",
        "}"
      ]
    },
    {
      "cell_type": "code",
      "execution_count": 7,
      "metadata": {
        "colab": {
          "base_uri": "https://localhost:8080/",
          "height": 191
        },
        "id": "c3ElVrOTTK5R",
        "outputId": "a7fce74f-a114-47c5-9235-6bc1ef77d428",
        "vscode": {
          "languageId": "r"
        }
      },
      "outputs": [
        {
          "data": {
            "text/html": [
              "5392"
            ],
            "text/latex": [
              "5392"
            ],
            "text/markdown": [
              "5392"
            ],
            "text/plain": [
              "[1] 5392"
            ]
          },
          "metadata": {},
          "output_type": "display_data"
        },
        {
          "data": {
            "text/html": [
              "1659"
            ],
            "text/latex": [
              "1659"
            ],
            "text/markdown": [
              "1659"
            ],
            "text/plain": [
              "[1] 1659"
            ]
          },
          "metadata": {},
          "output_type": "display_data"
        },
        {
          "data": {
            "text/html": [
              "2567"
            ],
            "text/latex": [
              "2567"
            ],
            "text/markdown": [
              "2567"
            ],
            "text/plain": [
              "[1] 2567"
            ]
          },
          "metadata": {},
          "output_type": "display_data"
        },
        {
          "data": {
            "text/html": [
              "2894"
            ],
            "text/latex": [
              "2894"
            ],
            "text/markdown": [
              "2894"
            ],
            "text/plain": [
              "[1] 2894"
            ]
          },
          "metadata": {},
          "output_type": "display_data"
        },
        {
          "data": {
            "text/html": [
              "21488"
            ],
            "text/latex": [
              "21488"
            ],
            "text/markdown": [
              "21488"
            ],
            "text/plain": [
              "[1] 21488"
            ]
          },
          "metadata": {},
          "output_type": "display_data"
        },
        {
          "data": {
            "text/html": [
              "234"
            ],
            "text/latex": [
              "234"
            ],
            "text/markdown": [
              "234"
            ],
            "text/plain": [
              "[1] 234"
            ]
          },
          "metadata": {},
          "output_type": "display_data"
        },
        {
          "data": {
            "text/html": [
              "0"
            ],
            "text/latex": [
              "0"
            ],
            "text/markdown": [
              "0"
            ],
            "text/plain": [
              "[1] 0"
            ]
          },
          "metadata": {},
          "output_type": "display_data"
        },
        {
          "data": {
            "text/html": [
              "1564"
            ],
            "text/latex": [
              "1564"
            ],
            "text/markdown": [
              "1564"
            ],
            "text/plain": [
              "[1] 1564"
            ]
          },
          "metadata": {},
          "output_type": "display_data"
        },
        {
          "data": {
            "text/html": [
              "6"
            ],
            "text/latex": [
              "6"
            ],
            "text/markdown": [
              "6"
            ],
            "text/plain": [
              "[1] 6"
            ]
          },
          "metadata": {},
          "output_type": "display_data"
        },
        {
          "data": {
            "text/html": [
              "1303"
            ],
            "text/latex": [
              "1303"
            ],
            "text/markdown": [
              "1303"
            ],
            "text/plain": [
              "[1] 1303"
            ]
          },
          "metadata": {},
          "output_type": "display_data"
        }
      ],
      "source": [
        "# Counting Outliers\n",
        "nrow(subset(df, Client_Income %in% outliers(df$Client_Income)))\n",
        "nrow(subset(df, Child_Count %in% outliers(df$Child_Count)))\n",
        "nrow(subset(df, Credit_Amount %in% outliers(df$Credit_Amount)))\n",
        "nrow(subset(df, Loan_Annuity %in% outliers(df$Loan_Annuity)))\n",
        "nrow(subset(df, Employed_Days %in% outliers(df$Employed_Days)))\n",
        "nrow(subset(df, Registration_Days %in% outliers(df$Registration_Days)))\n",
        "nrow(subset(df, ID_Days %in% outliers(df$ID_Days)))\n",
        "nrow(subset(df, Client_Family_Members %in% outliers(df$Client_Family_Members)))\n",
        "nrow(subset(df, Score_Source_2 %in% outliers(df$Score_Source_2)))\n",
        "nrow(subset(df, Credit_Bureau %in% outliers(df$Credit_Bureau)))\n"
      ]
    },
    {
      "cell_type": "markdown",
      "metadata": {
        "id": "qrsEG4WlAZ0-"
      },
      "source": [
        "### 3.2 Missing Values"
      ]
    },
    {
      "cell_type": "code",
      "execution_count": 8,
      "metadata": {
        "colab": {
          "base_uri": "https://localhost:8080/",
          "height": 34
        },
        "id": "BAc9V_VlkEZ0",
        "outputId": "861322cc-fa17-46ba-b34b-b9ad68a74120",
        "vscode": {
          "languageId": "r"
        }
      },
      "outputs": [
        {
          "data": {
            "text/html": [
              "<style>\n",
              ".list-inline {list-style: none; margin:0; padding: 0}\n",
              ".list-inline>li {display: inline-block}\n",
              ".list-inline>li:not(:last-child)::after {content: \"\\00b7\"; padding: 0 .5ex}\n",
              "</style>\n",
              "<ol class=list-inline><li>2568</li><li>40</li></ol>\n"
            ],
            "text/latex": [
              "\\begin{enumerate*}\n",
              "\\item 2568\n",
              "\\item 40\n",
              "\\end{enumerate*}\n"
            ],
            "text/markdown": [
              "1. 2568\n",
              "2. 40\n",
              "\n",
              "\n"
            ],
            "text/plain": [
              "[1] 2568   40"
            ]
          },
          "metadata": {},
          "output_type": "display_data"
        }
      ],
      "source": [
        "# Rows without NAs\n",
        "dim(na.omit(df))"
      ]
    },
    {
      "cell_type": "code",
      "execution_count": 9,
      "metadata": {
        "colab": {
          "base_uri": "https://localhost:8080/",
          "height": 1000
        },
        "id": "T2CRv-0XJ6Jw",
        "outputId": "e6cdbdb0-50c2-4fe0-d64e-a9e6d409a7d9",
        "vscode": {
          "languageId": "r"
        }
      },
      "outputs": [
        {
          "data": {
            "text/html": [
              "<table class=\"dataframe\">\n",
              "<caption>A tibble: 40 × 3</caption>\n",
              "<thead>\n",
              "\t<tr><th scope=col>variable</th><th scope=col>n_miss</th><th scope=col>pct_miss</th></tr>\n",
              "\t<tr><th scope=col>&lt;chr&gt;</th><th scope=col>&lt;int&gt;</th><th scope=col>&lt;dbl&gt;</th></tr>\n",
              "</thead>\n",
              "<tbody>\n",
              "\t<tr><td>Own_House_Age             </td><td>80095</td><td>65.729221</td></tr>\n",
              "\t<tr><td>Score_Source_1            </td><td>68835</td><td>56.488806</td></tr>\n",
              "\t<tr><td>Social_Circle_Default     </td><td>61928</td><td>50.820641</td></tr>\n",
              "\t<tr><td>Client_Occupation         </td><td>41435</td><td>34.003250</td></tr>\n",
              "\t<tr><td>Score_Source_3            </td><td>26922</td><td>22.093290</td></tr>\n",
              "\t<tr><td>Credit_Bureau             </td><td>18540</td><td>15.214680</td></tr>\n",
              "\t<tr><td>ID_Days                   </td><td> 5985</td><td> 4.911535</td></tr>\n",
              "\t<tr><td>Score_Source_2            </td><td> 5686</td><td> 4.666163</td></tr>\n",
              "\t<tr><td>Population_Region_Relative</td><td> 4868</td><td> 3.994879</td></tr>\n",
              "\t<tr><td>Loan_Annuity              </td><td> 4826</td><td> 3.960412</td></tr>\n",
              "\t<tr><td>Client_Income_Type        </td><td> 3701</td><td> 3.037191</td></tr>\n",
              "\t<tr><td>Client_Housing_Type       </td><td> 3687</td><td> 3.025702</td></tr>\n",
              "\t<tr><td>Employed_Days             </td><td> 3666</td><td> 3.008469</td></tr>\n",
              "\t<tr><td>Phone_Change              </td><td> 3664</td><td> 3.006828</td></tr>\n",
              "\t<tr><td>Application_Process_Hour  </td><td> 3663</td><td> 3.006007</td></tr>\n",
              "\t<tr><td>House_Own                 </td><td> 3661</td><td> 3.004366</td></tr>\n",
              "\t<tr><td>Loan_Contract_Type        </td><td> 3651</td><td> 2.996159</td></tr>\n",
              "\t<tr><td>Client_Education          </td><td> 3645</td><td> 2.991236</td></tr>\n",
              "\t<tr><td>Child_Count               </td><td> 3638</td><td> 2.985491</td></tr>\n",
              "\t<tr><td>Credit_Amount             </td><td> 3637</td><td> 2.984670</td></tr>\n",
              "\t<tr><td>Active_Loan               </td><td> 3635</td><td> 2.983029</td></tr>\n",
              "\t<tr><td>Registration_Days         </td><td> 3631</td><td> 2.979747</td></tr>\n",
              "\t<tr><td>Bike_Owned                </td><td> 3624</td><td> 2.974002</td></tr>\n",
              "\t<tr><td>Client_Income             </td><td> 3622</td><td> 2.972361</td></tr>\n",
              "\t<tr><td>Age_Days                  </td><td> 3617</td><td> 2.968258</td></tr>\n",
              "\t<tr><td>Type_Organization         </td><td> 3609</td><td> 2.961692</td></tr>\n",
              "\t<tr><td>Car_Owned                 </td><td> 3581</td><td> 2.938715</td></tr>\n",
              "\t<tr><td>Client_Marital_Status     </td><td> 3473</td><td> 2.850085</td></tr>\n",
              "\t<tr><td>Application_Process_Day   </td><td> 2428</td><td> 1.992516</td></tr>\n",
              "\t<tr><td>Client_Gender             </td><td> 2413</td><td> 1.980206</td></tr>\n",
              "\t<tr><td>Client_Family_Members     </td><td> 2410</td><td> 1.977744</td></tr>\n",
              "\t<tr><td>Cleint_City_Rating        </td><td> 2409</td><td> 1.976924</td></tr>\n",
              "\t<tr><td>Accompany_Client          </td><td> 1746</td><td> 1.432839</td></tr>\n",
              "\t<tr><td>ID                        </td><td>    0</td><td> 0.000000</td></tr>\n",
              "\t<tr><td>Mobile_Tag                </td><td>    0</td><td> 0.000000</td></tr>\n",
              "\t<tr><td>Homephone_Tag             </td><td>    0</td><td> 0.000000</td></tr>\n",
              "\t<tr><td>Workphone_Working         </td><td>    0</td><td> 0.000000</td></tr>\n",
              "\t<tr><td>Client_Permanent_Match_Tag</td><td>    0</td><td> 0.000000</td></tr>\n",
              "\t<tr><td>Client_Contact_Work_Tag   </td><td>    0</td><td> 0.000000</td></tr>\n",
              "\t<tr><td>Default                   </td><td>    0</td><td> 0.000000</td></tr>\n",
              "</tbody>\n",
              "</table>\n"
            ],
            "text/latex": [
              "A tibble: 40 × 3\n",
              "\\begin{tabular}{lll}\n",
              " variable & n\\_miss & pct\\_miss\\\\\n",
              " <chr> & <int> & <dbl>\\\\\n",
              "\\hline\n",
              "\t Own\\_House\\_Age              & 80095 & 65.729221\\\\\n",
              "\t Score\\_Source\\_1             & 68835 & 56.488806\\\\\n",
              "\t Social\\_Circle\\_Default      & 61928 & 50.820641\\\\\n",
              "\t Client\\_Occupation          & 41435 & 34.003250\\\\\n",
              "\t Score\\_Source\\_3             & 26922 & 22.093290\\\\\n",
              "\t Credit\\_Bureau              & 18540 & 15.214680\\\\\n",
              "\t ID\\_Days                    &  5985 &  4.911535\\\\\n",
              "\t Score\\_Source\\_2             &  5686 &  4.666163\\\\\n",
              "\t Population\\_Region\\_Relative &  4868 &  3.994879\\\\\n",
              "\t Loan\\_Annuity               &  4826 &  3.960412\\\\\n",
              "\t Client\\_Income\\_Type         &  3701 &  3.037191\\\\\n",
              "\t Client\\_Housing\\_Type        &  3687 &  3.025702\\\\\n",
              "\t Employed\\_Days              &  3666 &  3.008469\\\\\n",
              "\t Phone\\_Change               &  3664 &  3.006828\\\\\n",
              "\t Application\\_Process\\_Hour   &  3663 &  3.006007\\\\\n",
              "\t House\\_Own                  &  3661 &  3.004366\\\\\n",
              "\t Loan\\_Contract\\_Type         &  3651 &  2.996159\\\\\n",
              "\t Client\\_Education           &  3645 &  2.991236\\\\\n",
              "\t Child\\_Count                &  3638 &  2.985491\\\\\n",
              "\t Credit\\_Amount              &  3637 &  2.984670\\\\\n",
              "\t Active\\_Loan                &  3635 &  2.983029\\\\\n",
              "\t Registration\\_Days          &  3631 &  2.979747\\\\\n",
              "\t Bike\\_Owned                 &  3624 &  2.974002\\\\\n",
              "\t Client\\_Income              &  3622 &  2.972361\\\\\n",
              "\t Age\\_Days                   &  3617 &  2.968258\\\\\n",
              "\t Type\\_Organization          &  3609 &  2.961692\\\\\n",
              "\t Car\\_Owned                  &  3581 &  2.938715\\\\\n",
              "\t Client\\_Marital\\_Status      &  3473 &  2.850085\\\\\n",
              "\t Application\\_Process\\_Day    &  2428 &  1.992516\\\\\n",
              "\t Client\\_Gender              &  2413 &  1.980206\\\\\n",
              "\t Client\\_Family\\_Members      &  2410 &  1.977744\\\\\n",
              "\t Cleint\\_City\\_Rating         &  2409 &  1.976924\\\\\n",
              "\t Accompany\\_Client           &  1746 &  1.432839\\\\\n",
              "\t ID                         &     0 &  0.000000\\\\\n",
              "\t Mobile\\_Tag                 &     0 &  0.000000\\\\\n",
              "\t Homephone\\_Tag              &     0 &  0.000000\\\\\n",
              "\t Workphone\\_Working          &     0 &  0.000000\\\\\n",
              "\t Client\\_Permanent\\_Match\\_Tag &     0 &  0.000000\\\\\n",
              "\t Client\\_Contact\\_Work\\_Tag    &     0 &  0.000000\\\\\n",
              "\t Default                    &     0 &  0.000000\\\\\n",
              "\\end{tabular}\n"
            ],
            "text/markdown": [
              "\n",
              "A tibble: 40 × 3\n",
              "\n",
              "| variable &lt;chr&gt; | n_miss &lt;int&gt; | pct_miss &lt;dbl&gt; |\n",
              "|---|---|---|\n",
              "| Own_House_Age              | 80095 | 65.729221 |\n",
              "| Score_Source_1             | 68835 | 56.488806 |\n",
              "| Social_Circle_Default      | 61928 | 50.820641 |\n",
              "| Client_Occupation          | 41435 | 34.003250 |\n",
              "| Score_Source_3             | 26922 | 22.093290 |\n",
              "| Credit_Bureau              | 18540 | 15.214680 |\n",
              "| ID_Days                    |  5985 |  4.911535 |\n",
              "| Score_Source_2             |  5686 |  4.666163 |\n",
              "| Population_Region_Relative |  4868 |  3.994879 |\n",
              "| Loan_Annuity               |  4826 |  3.960412 |\n",
              "| Client_Income_Type         |  3701 |  3.037191 |\n",
              "| Client_Housing_Type        |  3687 |  3.025702 |\n",
              "| Employed_Days              |  3666 |  3.008469 |\n",
              "| Phone_Change               |  3664 |  3.006828 |\n",
              "| Application_Process_Hour   |  3663 |  3.006007 |\n",
              "| House_Own                  |  3661 |  3.004366 |\n",
              "| Loan_Contract_Type         |  3651 |  2.996159 |\n",
              "| Client_Education           |  3645 |  2.991236 |\n",
              "| Child_Count                |  3638 |  2.985491 |\n",
              "| Credit_Amount              |  3637 |  2.984670 |\n",
              "| Active_Loan                |  3635 |  2.983029 |\n",
              "| Registration_Days          |  3631 |  2.979747 |\n",
              "| Bike_Owned                 |  3624 |  2.974002 |\n",
              "| Client_Income              |  3622 |  2.972361 |\n",
              "| Age_Days                   |  3617 |  2.968258 |\n",
              "| Type_Organization          |  3609 |  2.961692 |\n",
              "| Car_Owned                  |  3581 |  2.938715 |\n",
              "| Client_Marital_Status      |  3473 |  2.850085 |\n",
              "| Application_Process_Day    |  2428 |  1.992516 |\n",
              "| Client_Gender              |  2413 |  1.980206 |\n",
              "| Client_Family_Members      |  2410 |  1.977744 |\n",
              "| Cleint_City_Rating         |  2409 |  1.976924 |\n",
              "| Accompany_Client           |  1746 |  1.432839 |\n",
              "| ID                         |     0 |  0.000000 |\n",
              "| Mobile_Tag                 |     0 |  0.000000 |\n",
              "| Homephone_Tag              |     0 |  0.000000 |\n",
              "| Workphone_Working          |     0 |  0.000000 |\n",
              "| Client_Permanent_Match_Tag |     0 |  0.000000 |\n",
              "| Client_Contact_Work_Tag    |     0 |  0.000000 |\n",
              "| Default                    |     0 |  0.000000 |\n",
              "\n"
            ],
            "text/plain": [
              "   variable                   n_miss pct_miss \n",
              "1  Own_House_Age              80095  65.729221\n",
              "2  Score_Source_1             68835  56.488806\n",
              "3  Social_Circle_Default      61928  50.820641\n",
              "4  Client_Occupation          41435  34.003250\n",
              "5  Score_Source_3             26922  22.093290\n",
              "6  Credit_Bureau              18540  15.214680\n",
              "7  ID_Days                     5985   4.911535\n",
              "8  Score_Source_2              5686   4.666163\n",
              "9  Population_Region_Relative  4868   3.994879\n",
              "10 Loan_Annuity                4826   3.960412\n",
              "11 Client_Income_Type          3701   3.037191\n",
              "12 Client_Housing_Type         3687   3.025702\n",
              "13 Employed_Days               3666   3.008469\n",
              "14 Phone_Change                3664   3.006828\n",
              "15 Application_Process_Hour    3663   3.006007\n",
              "16 House_Own                   3661   3.004366\n",
              "17 Loan_Contract_Type          3651   2.996159\n",
              "18 Client_Education            3645   2.991236\n",
              "19 Child_Count                 3638   2.985491\n",
              "20 Credit_Amount               3637   2.984670\n",
              "21 Active_Loan                 3635   2.983029\n",
              "22 Registration_Days           3631   2.979747\n",
              "23 Bike_Owned                  3624   2.974002\n",
              "24 Client_Income               3622   2.972361\n",
              "25 Age_Days                    3617   2.968258\n",
              "26 Type_Organization           3609   2.961692\n",
              "27 Car_Owned                   3581   2.938715\n",
              "28 Client_Marital_Status       3473   2.850085\n",
              "29 Application_Process_Day     2428   1.992516\n",
              "30 Client_Gender               2413   1.980206\n",
              "31 Client_Family_Members       2410   1.977744\n",
              "32 Cleint_City_Rating          2409   1.976924\n",
              "33 Accompany_Client            1746   1.432839\n",
              "34 ID                             0   0.000000\n",
              "35 Mobile_Tag                     0   0.000000\n",
              "36 Homephone_Tag                  0   0.000000\n",
              "37 Workphone_Working              0   0.000000\n",
              "38 Client_Permanent_Match_Tag     0   0.000000\n",
              "39 Client_Contact_Work_Tag        0   0.000000\n",
              "40 Default                        0   0.000000"
            ]
          },
          "metadata": {},
          "output_type": "display_data"
        }
      ],
      "source": [
        "# Summary of Missing Values\n",
        "miss_var_summary(df)"
      ]
    },
    {
      "cell_type": "code",
      "execution_count": 10,
      "metadata": {
        "colab": {
          "base_uri": "https://localhost:8080/",
          "height": 437
        },
        "id": "hNNyIPi02jFf",
        "outputId": "fe254fef-0648-42a0-ee30-0b66d24e794b",
        "vscode": {
          "languageId": "r"
        }
      },
      "outputs": [
        {
          "data": {
            "image/png": "[encoded data removed]",
            "text/plain": [
              "plot without title"
            ]
          },
          "metadata": {
            "image/png": {
              "height": 420,
              "width": 420
            }
          },
          "output_type": "display_data"
        }
      ],
      "source": [
        "# Missing Values\n",
        "gg_miss_var(df)"
      ]
    },
    {
      "cell_type": "code",
      "execution_count": 11,
      "metadata": {
        "id": "_Z8J9GdU7fd0",
        "vscode": {
          "languageId": "r"
        }
      },
      "outputs": [],
      "source": [
        "# Preprocessing Function\n",
        "dataset_prep <- function(dataset1, omit = F) {\n",
        "  # Specifying Numerical Variables\n",
        "  # cols <- c(2, 7:9, 17:21, 30, 36)\n",
        "  # dataset[cols] <- lapply(dataset[cols], as.numeric)\n",
        "  \n",
        "  dataset <- dataset1\n",
        "  \n",
        "  dataset$Employed_Days[dataset$Employed_Days %in% outliers(dataset$Employed_Days)] <- NA\n",
        "\n",
        "  temp <- c('Businessman', 'Maternity leave', 'Student', 'Unemployed')\n",
        "  dataset$Client_Income_Type[dataset$Client_Income_Type %in% temp] <- 'Other'\n",
        "\n",
        "  temp <- c('Business Entity Type 1', 'Business Entity Type 2', 'Business Entity Type 3')\n",
        "  dataset$Type_Organization[dataset$Type_Organization %in% temp] <- 'Business Entity'\n",
        "  temp <- c('Industry: type 1', 'Industry: type 2', 'Industry: type 3', 'Industry: type 4',\n",
        "            'Industry: type 5', 'Industry: type 6', 'Industry: type 7', 'Industry: type 8',\n",
        "            'Industry: type 9', 'Industry: type 10', 'Industry: type 11',\n",
        "            'Industry: type 12', 'Industry: type 13')\n",
        "  dataset$Type_Organization[dataset$Type_Organization %in% temp] <- 'Industry'\n",
        "  temp <- c('Trade: type 1', 'Trade: type 2', 'Trade: type 3', 'Trade: type 4',\n",
        "            'Trade: type 5', 'Trade: type 6', 'Trade: type 7')\n",
        "  dataset$Type_Organization[dataset$Type_Organization %in% temp] <- 'Trade'\n",
        "  temp <- c('Transport: type 1', 'Transport: type 2', 'Transport: type 3', 'Transport: type 4')\n",
        "  dataset$Type_Organization[dataset$Type_Organization %in% temp] <- 'Transport'\n",
        "  dataset$Type_Organization[is.na(dataset$Type_Organization)] <- 'XNA'\n",
        "\n",
        "  if (omit == F) {\n",
        "    dataset$Client_Income[dataset$Client_Income > 100000] = 100000\n",
        "    dataset$Child_Count[dataset$Child_Count > 4] = 4\n",
        "    dataset$Client_Family_Members[dataset$Client_Family_Members > 6] = 6\n",
        "    dataset$Credit_Bureau[dataset$Credit_Bureau > 10] = 10\n",
        "    dataset$Score_Source_2[dataset$Score_Source_2 %in% outliers(dataset$Score_Source_2)] <- NA\n",
        "    dataset$Accompany_Client[dataset$Accompany_Client == '##'] <- NA\n",
        "    dataset$Client_Gender[dataset$Client_Gender == 'XNA'] <- NA   \n",
        "  } else {\n",
        "    dataset <- subset(dataset, !(Client_Income %in% outliers(dataset$Client_Income)) | is.na(Client_Income))\n",
        "    dataset <- subset(dataset, !(Child_Count %in% outliers(dataset$Child_Count)) | is.na(Child_Count))\n",
        "    dataset <- subset(dataset, !(Credit_Amount %in% outliers(dataset$Credit_Amount)) | is.na(Credit_Amount))\n",
        "    dataset <- subset(dataset, !(Loan_Annuity %in% outliers(dataset$Loan_Annuity)) | is.na(Loan_Annuity))\n",
        "    dataset <- subset(dataset, !(Registration_Days %in% outliers(dataset$Registration_Days)) | is.na(Registration_Days))\n",
        "    dataset <- subset(dataset, !(ID_Days %in% outliers(dataset$ID_Days)) | is.na(ID_Days))\n",
        "    dataset <- subset(dataset, !(Client_Family_Members %in% outliers(dataset$Client_Family_Members)) | is.na(Client_Family_Members))\n",
        "    dataset <- subset(dataset, !(Score_Source_2 %in% outliers(dataset$Score_Source_2)) | is.na(Score_Source_2))\n",
        "    dataset <- subset(dataset, Accompany_Client != '##' | is.na(Accompany_Client))\n",
        "    dataset <- subset(dataset, Client_Gender != 'XNA' | is.na(Client_Gender))\n",
        "  }\n",
        "  \n",
        "  # Specifying Categorical Variables\n",
        "  cols = c(3:7, 10:16, 23:29, 31:33, 39, 40 )\n",
        "  dataset[cols] <- lapply(dataset[cols], factor)\n",
        "  \n",
        "  na_dim = dim(na.omit(dataset))\n",
        "  print(paste(\"The Number of Complete rows is\", na_dim[1]))\n",
        "  dataset\n",
        "}\n"
      ]
    },
    {
      "cell_type": "code",
      "execution_count": 12,
      "metadata": {
        "colab": {
          "base_uri": "https://localhost:8080/"
        },
        "id": "BheK8udwTXiQ",
        "outputId": "4a44f836-322a-4fbf-9dfa-72fb4afc63bc",
        "vscode": {
          "languageId": "r"
        }
      },
      "outputs": [
        {
          "name": "stdout",
          "output_type": "stream",
          "text": [
            "[1] \"The Number of Complete rows is 2635\"\n",
            "[1] \"The Number of Complete rows is 2142\"\n"
          ]
        }
      ],
      "source": [
        "df_norm <- dataset_prep(df)\n",
        "df_omit <- dataset_prep(df, omit = T)"
      ]
    },
    {
      "cell_type": "markdown",
      "metadata": {
        "id": "pbA-XvhSffVS"
      },
      "source": [
        "### 3.3 Imputaion"
      ]
    },
    {
      "cell_type": "code",
      "execution_count": 13,
      "metadata": {
        "id": "4okuqEhzTaDC",
        "vscode": {
          "languageId": "r"
        }
      },
      "outputs": [],
      "source": [
        "# Select Dataset to impute\n",
        "\n",
        "# df <- df_norm\n",
        "\n",
        "# df <- df_omit"
      ]
    },
    {
      "cell_type": "code",
      "execution_count": 14,
      "metadata": {
        "id": "hYHrFdJ4kCAp",
        "vscode": {
          "languageId": "r"
        }
      },
      "outputs": [],
      "source": [
        "# Warning: The Imputation Process will takes several minutes\n",
        "\n",
        "# met <- c('pmm', 'logreg', 'logreg', 'logreg', 'logreg', 'pmm', 'pmm', 'pmm', 'polyreg',\n",
        "#          'polyreg', 'polyreg', 'polyreg', 'logreg', 'logreg', 'polyreg', 'pmm', 'pmm',\n",
        "#          'pmm', 'pmm', 'pmm', 'pmm', '', '', 'polyreg', 'pmm', 'pmm', 'pmm', 'pmm',\n",
        "#          '', '', 'pmm', 'pmm', 'pmm', 'pmm', 'pmm', 'pmm')\n",
        "# imputed_Data <- mice(df[, c(2:22, 24:32, 34:39)], m = 1, method = met, seed = 500)"
      ]
    },
    {
      "cell_type": "code",
      "execution_count": 15,
      "metadata": {
        "id": "qZUaOg3akGnn",
        "vscode": {
          "languageId": "r"
        }
      },
      "outputs": [],
      "source": [
        "# summary(imputed_Data)"
      ]
    },
    {
      "cell_type": "code",
      "execution_count": 16,
      "metadata": {
        "id": "WxU0thLFkLYE",
        "vscode": {
          "languageId": "r"
        }
      },
      "outputs": [],
      "source": [
        "# imputed_Data <- complete(imputed_Data)\n",
        "# dim(na.omit(imputed_Data))"
      ]
    },
    {
      "cell_type": "code",
      "execution_count": 17,
      "metadata": {
        "id": "ErmhXNbWkQ36",
        "vscode": {
          "languageId": "r"
        }
      },
      "outputs": [],
      "source": [
        "# describe(imputed_Data)"
      ]
    },
    {
      "cell_type": "code",
      "execution_count": 18,
      "metadata": {
        "id": "q7EKX-_lj_1L",
        "vscode": {
          "languageId": "r"
        }
      },
      "outputs": [],
      "source": [
        "# df[, c(2:32, 34:39)] <- imputed_Data"
      ]
    },
    {
      "cell_type": "code",
      "execution_count": 19,
      "metadata": {
        "id": "GnF8efhYkV5D",
        "vscode": {
          "languageId": "r"
        }
      },
      "outputs": [],
      "source": [
        "# write.csv(df, 'Train_Imputed.csv', row.names = F)\n",
        "\n",
        "# write.csv(df, 'Train_Imputed_omit.csv', row.names = F)\n",
        "\n",
        "rm(df)\n",
        "rm(df_norm)\n",
        "rm(df_omit)"
      ]
    },
    {
      "cell_type": "markdown",
      "metadata": {
        "id": "1OiKVt9Fhk55"
      },
      "source": [
        "## 4. Visualization"
      ]
    },
    {
      "cell_type": "code",
      "execution_count": 20,
      "metadata": {
        "id": "9HqQud0rhk55",
        "vscode": {
          "languageId": "r"
        }
      },
      "outputs": [],
      "source": [
        "#Loading Dataset\n",
        "df <- read.csv('Train_Imputed_norm.csv', stringsAsFactors = T)\n",
        "df$Default <- factor(df$Default)"
      ]
    },
    {
      "cell_type": "code",
      "execution_count": 21,
      "metadata": {
        "id": "gEX4hqVyhk55",
        "outputId": "d855051a-7711-4dbe-f4d0-e6ddc46dda54",
        "vscode": {
          "languageId": "r"
        }
      },
      "outputs": [
        {
          "data": {
            "image/png": "[encoded data removed]",
            "text/plain": [
              "plot without title"
            ]
          },
          "metadata": {
            "image/png": {
              "height": 420,
              "width": 420
            }
          },
          "output_type": "display_data"
        }
      ],
      "source": [
        "# 01. Association of Default and Client_Income_Type\n",
        "# Bar chart\n",
        "ggplot(df, aes(x= Default,  group=Client_Income_Type)) + \n",
        "  geom_bar(aes(y = ..prop.., fill = factor(..x..)), stat=\"count\") +\n",
        "  geom_text(aes( label = scales::percent(..prop..),\n",
        "                 y= ..prop.. ), stat= \"count\", vjust = 1.6) +\n",
        "  labs(y = \"Percent\", fill=\"Default\") +\n",
        "  facet_grid(~Client_Income_Type) +\n",
        "  scale_y_continuous(labels = scales::percent) + \n",
        "  scale_fill_discrete( labels = c('No', 'Yes')) +\n",
        "  ggtitle(\"Association of Default and Client_Income_Type\")\n"
      ]
    },
    {
      "cell_type": "code",
      "execution_count": 22,
      "metadata": {
        "id": "1IAnoRBlhk56",
        "outputId": "b65da4e1-7912-47e0-980e-0769f47ca92b",
        "vscode": {
          "languageId": "r"
        }
      },
      "outputs": [
        {
          "data": {
            "image/png": "[encoded data removed]",
            "text/plain": [
              "plot without title"
            ]
          },
          "metadata": {
            "image/png": {
              "height": 420,
              "width": 420
            }
          },
          "output_type": "display_data"
        }
      ],
      "source": [
        "# 02. Association of Default and Client_Education\n",
        "# Bar chart\n",
        "ggplot(df, aes(x= Default,  group=Client_Education)) + \n",
        "  geom_bar(aes(y = ..prop.., fill = factor(..x..)), stat=\"count\") +\n",
        "  geom_text(aes( label = scales::percent(..prop..),\n",
        "                 y= ..prop.. ), stat= \"count\", vjust = 1.6) +\n",
        "  labs(y = \"Percent\", fill=\"Default\") +\n",
        "  facet_grid(~Client_Education) +\n",
        "  scale_y_continuous(labels = scales::percent) + \n",
        "  scale_fill_discrete( labels = c('No', 'Yes')) +\n",
        "  ggtitle(\"Association of Default and Client_Education\")\n"
      ]
    },
    {
      "cell_type": "code",
      "execution_count": 23,
      "metadata": {
        "id": "epD-3R2lhk56",
        "outputId": "e8f269ed-a48b-4e80-b551-515bd235f174",
        "vscode": {
          "languageId": "r"
        }
      },
      "outputs": [
        {
          "data": {
            "image/png": "[encoded data removed]",
            "text/plain": [
              "plot without title"
            ]
          },
          "metadata": {
            "image/png": {
              "height": 420,
              "width": 420
            }
          },
          "output_type": "display_data"
        }
      ],
      "source": [
        "# 03. Association of Default and Client_Gender\n",
        "# Bar chart\n",
        "ggplot(df, aes(x= Default,  group=Client_Gender)) + \n",
        "  geom_bar(aes(y = ..prop.., fill = factor(..x..)), stat=\"count\") +\n",
        "  geom_text(aes( label = scales::percent(..prop..),\n",
        "                 y= ..prop.. ), stat= \"count\", vjust = 1.6) +\n",
        "  labs(y = \"Percent\", fill=\"Default\") +\n",
        "  facet_grid(~Client_Gender) +\n",
        "  scale_y_continuous(labels = scales::percent) + \n",
        "  scale_fill_discrete( labels = c('No', 'Yes')) +\n",
        "  ggtitle(\"Association of Default and Client_Gender\")\n"
      ]
    },
    {
      "cell_type": "code",
      "execution_count": 24,
      "metadata": {
        "id": "JJhwshz4hk57",
        "outputId": "12f24dc2-e155-4091-ff06-f4abd22fdc9c",
        "vscode": {
          "languageId": "r"
        }
      },
      "outputs": [
        {
          "data": {
            "image/png": "[encoded data removed]",
            "text/plain": [
              "plot without title"
            ]
          },
          "metadata": {
            "image/png": {
              "height": 420,
              "width": 420
            }
          },
          "output_type": "display_data"
        }
      ],
      "source": [
        "# 04. Association of Default and Loan_Contract_Type\n",
        "# Bar chart\n",
        "ggplot(df, aes(x= Default,  group=Loan_Contract_Type)) + \n",
        "  geom_bar(aes(y = ..prop.., fill = factor(..x..)), stat=\"count\") +\n",
        "  geom_text(aes( label = scales::percent(..prop..),\n",
        "                 y= ..prop.. ), stat= \"count\", vjust = 1.6) +\n",
        "  labs(y = \"Percent\", fill=\"Default\") +\n",
        "  facet_grid(~Loan_Contract_Type) +\n",
        "  scale_y_continuous(labels = scales::percent) + \n",
        "  scale_fill_discrete( labels = c('No', 'Yes')) +\n",
        "  ggtitle(\"Association of Default and Loan_Contract_Type\")\n"
      ]
    },
    {
      "cell_type": "code",
      "execution_count": 25,
      "metadata": {
        "id": "Sk6-ECuzhk57",
        "outputId": "5bee4785-771d-413e-92da-f548114a264f",
        "vscode": {
          "languageId": "r"
        }
      },
      "outputs": [
        {
          "data": {
            "image/png": "[encoded data removed]",
            "text/plain": [
              "plot without title"
            ]
          },
          "metadata": {
            "image/png": {
              "height": 420,
              "width": 420
            }
          },
          "output_type": "display_data"
        }
      ],
      "source": [
        "# 05. Association of Default and Client_Housing_Type\n",
        "# Bar chart\n",
        "ggplot(df, aes(x= Default,  group=Client_Housing_Type)) + \n",
        "  geom_bar(aes(y = ..prop.., fill = factor(..x..)), stat=\"count\") +\n",
        "  geom_text(aes( label = scales::percent(..prop..),\n",
        "                 y= ..prop.. ), stat= \"count\", vjust = 1.6) +\n",
        "  labs(y = \"Percent\", fill=\"Default\") +\n",
        "  facet_grid(~Client_Housing_Type) +\n",
        "  scale_y_continuous(labels = scales::percent) + \n",
        "  scale_fill_discrete( labels = c('No', 'Yes')) +\n",
        "  ggtitle(\"Association of Default and Client_Housing_Type\")\n"
      ]
    },
    {
      "cell_type": "code",
      "execution_count": 26,
      "metadata": {
        "id": "PRVX1uB3hk58",
        "vscode": {
          "languageId": "r"
        }
      },
      "outputs": [
        {
          "data": {
            "image/png": "[encoded data removed]",
            "text/plain": [
              "plot without title"
            ]
          },
          "metadata": {
            "image/png": {
              "height": 420,
              "width": 420
            }
          },
          "output_type": "display_data"
        }
      ],
      "source": [
        "# 06. Association of Default and Age_Days\n",
        "#Boxplot\n",
        "temp <- subset(df, !(df$Age_Days %in% outliers(df$Age_Days)))\n",
        "\n",
        "ggplot(temp, aes(x = Default, y = Age_Days)) + \n",
        "  geom_boxplot(fill = 'lightblue', outlier.shape = 4) + \n",
        "  coord_flip() +\n",
        "  ggtitle(\"Association of Default and Age_Days\")"
      ]
    },
    {
      "cell_type": "code",
      "execution_count": 27,
      "metadata": {
        "vscode": {
          "languageId": "r"
        }
      },
      "outputs": [
        {
          "data": {
            "image/png": "[encoded data removed]",
            "text/plain": [
              "plot without title"
            ]
          },
          "metadata": {
            "image/png": {
              "height": 420,
              "width": 420
            }
          },
          "output_type": "display_data"
        }
      ],
      "source": [
        "# 07. Association of Default and Employed_Days\n",
        "#Boxplot\n",
        "temp <- subset(df, !(df$Employed_Days %in% outliers(df$Employed_Days)))\n",
        "\n",
        "ggplot(temp, aes(x = Default, y = Employed_Days)) + \n",
        "  geom_boxplot(fill = 'lightblue', outlier.shape = 4) + \n",
        "  coord_flip() +\n",
        "  ggtitle(\"Association of Default and Employed_Days\")\n"
      ]
    },
    {
      "cell_type": "code",
      "execution_count": 28,
      "metadata": {
        "vscode": {
          "languageId": "r"
        }
      },
      "outputs": [
        {
          "data": {
            "image/png": "[encoded data removed]",
            "text/plain": [
              "plot without title"
            ]
          },
          "metadata": {
            "image/png": {
              "height": 420,
              "width": 420
            }
          },
          "output_type": "display_data"
        }
      ],
      "source": [
        "# 08. Association of Default and Registration_Days\n",
        "#Boxplot\n",
        "temp <- subset(df, !(df$Registration_Days %in% outliers(df$Registration_Days)))\n",
        "\n",
        "ggplot(temp, aes(x = Default, y = Registration_Days)) + \n",
        "  geom_boxplot(fill = 'lightblue', outlier.shape = 4) + \n",
        "  coord_flip() +\n",
        "  ggtitle(\"Association of Default and Registration_Days\")\n"
      ]
    },
    {
      "cell_type": "code",
      "execution_count": 29,
      "metadata": {
        "vscode": {
          "languageId": "r"
        }
      },
      "outputs": [
        {
          "data": {
            "image/png": "[encoded data removed]",
            "text/plain": [
              "plot without title"
            ]
          },
          "metadata": {
            "image/png": {
              "height": 420,
              "width": 420
            }
          },
          "output_type": "display_data"
        }
      ],
      "source": [
        "# 09. Association of Default and ID_Days\n",
        "#Boxplot\n",
        "temp <- subset(df, !(df$ID_Days %in% outliers(df$ID_Days)))\n",
        "\n",
        "ggplot(temp, aes(x = Default, y = ID_Days)) + \n",
        "  geom_boxplot(fill = 'lightblue', outlier.shape = 4) + \n",
        "  coord_flip() +\n",
        "  ggtitle(\"Association of Default and ID_Days\")\n"
      ]
    },
    {
      "cell_type": "code",
      "execution_count": 30,
      "metadata": {
        "vscode": {
          "languageId": "r"
        }
      },
      "outputs": [
        {
          "data": {
            "image/png": "[encoded data removed]",
            "text/plain": [
              "plot without title"
            ]
          },
          "metadata": {
            "image/png": {
              "height": 420,
              "width": 420
            }
          },
          "output_type": "display_data"
        }
      ],
      "source": [
        "# 10. Association of Default and Own_House_Age\n",
        "#Boxplot\n",
        "temp <- subset(df, !(df$Own_House_Age %in% outliers(df$Own_House_Age)))\n",
        "\n",
        "ggplot(df, aes(x = Default, y = Own_House_Age)) + \n",
        "  geom_boxplot(fill = 'lightblue', outlier.shape = 4) + \n",
        "  coord_flip() +\n",
        "  ggtitle(\"Association of Default and Own_House_Age\")\n"
      ]
    },
    {
      "cell_type": "code",
      "execution_count": 31,
      "metadata": {
        "vscode": {
          "languageId": "r"
        }
      },
      "outputs": [
        {
          "data": {
            "image/png": "[encoded data removed]",
            "text/plain": [
              "plot without title"
            ]
          },
          "metadata": {
            "image/png": {
              "height": 420,
              "width": 420
            }
          },
          "output_type": "display_data"
        }
      ],
      "source": [
        "# 11. Association of Default and Cleint_City_Rating\n",
        "# Workphone_Working\n",
        "ggplot(df, aes(x= Default,  group=Cleint_City_Rating)) + \n",
        "  geom_bar(aes(y = ..prop.., fill = factor(..x..)), stat=\"count\") +\n",
        "  geom_text(aes( label = scales::percent(..prop..),\n",
        "                 y= ..prop.. ), stat= \"count\", vjust = 1.6) +\n",
        "  labs(y = \"Percent\", fill=\"Default\") +\n",
        "  facet_grid(~Cleint_City_Rating) +\n",
        "  scale_y_continuous(labels = scales::percent) + \n",
        "  scale_fill_discrete( labels = c('No', 'Yes')) +\n",
        "  ggtitle(\"Association of Default and Cleint_City_Rating\")"
      ]
    },
    {
      "cell_type": "code",
      "execution_count": 32,
      "metadata": {
        "vscode": {
          "languageId": "r"
        }
      },
      "outputs": [
        {
          "data": {
            "image/png": "[encoded data removed]",
            "text/plain": [
              "plot without title"
            ]
          },
          "metadata": {
            "image/png": {
              "height": 420,
              "width": 420
            }
          },
          "output_type": "display_data"
        }
      ],
      "source": [
        "# 12. Association of Default and Client_Permanent_Match_Tag\n",
        "# Application_Process_Day\n",
        "ggplot(df, aes(x= Default,  group=Client_Permanent_Match_Tag)) + \n",
        "  geom_bar(aes(y = ..prop.., fill = factor(..x..)), stat=\"count\") +\n",
        "  geom_text(aes( label = scales::percent(..prop..),\n",
        "                 y= ..prop.. ), stat= \"count\", vjust = 1.6) +\n",
        "  labs(y = \"Percent\", fill=\"Default\") +\n",
        "  facet_grid(~Client_Permanent_Match_Tag) +\n",
        "  scale_y_continuous(labels = scales::percent) + \n",
        "  scale_fill_discrete( labels = c('No', 'Yes')) +\n",
        "  ggtitle(\"Association of Default and Client_Permanent_Match_Tag\")\n"
      ]
    },
    {
      "cell_type": "code",
      "execution_count": 33,
      "metadata": {
        "vscode": {
          "languageId": "r"
        }
      },
      "outputs": [
        {
          "data": {
            "image/png": "[encoded data removed]",
            "text/plain": [
              "plot without title"
            ]
          },
          "metadata": {
            "image/png": {
              "height": 420,
              "width": 420
            }
          },
          "output_type": "display_data"
        }
      ],
      "source": [
        "# 13. Association of Default and Score_Source_1\n",
        "#Boxplot\n",
        "temp <- subset(df, !(df$Score_Source_1 %in% outliers(df$Score_Source_1)))\n",
        "\n",
        "ggplot(temp, aes(x = Default, y = Score_Source_1)) + \n",
        "  geom_boxplot(fill = 'lightblue', outlier.shape = 4) + \n",
        "  coord_flip() +\n",
        "  ggtitle(\"Association of Default and Score_Source_1\")\n"
      ]
    },
    {
      "cell_type": "code",
      "execution_count": 34,
      "metadata": {
        "vscode": {
          "languageId": "r"
        }
      },
      "outputs": [
        {
          "data": {
            "image/png": "[encoded data removed]",
            "text/plain": [
              "plot without title"
            ]
          },
          "metadata": {
            "image/png": {
              "height": 420,
              "width": 420
            }
          },
          "output_type": "display_data"
        }
      ],
      "source": [
        "# 14. Association of Default and Score_Source_2\n",
        "#Boxplot\n",
        "temp <- subset(df, !(df$Score_Source_2 %in% outliers(df$Score_Source_2)))\n",
        "\n",
        "ggplot(temp, aes(x = Default, y = Score_Source_2)) + \n",
        "  geom_boxplot(fill = 'lightblue', outlier.shape = 4) + \n",
        "  coord_flip() +\n",
        "  ggtitle(\"Association of Default and Score_Source_2\")\n"
      ]
    },
    {
      "cell_type": "code",
      "execution_count": 35,
      "metadata": {
        "vscode": {
          "languageId": "r"
        }
      },
      "outputs": [
        {
          "data": {
            "image/png": "[encoded data removed]",
            "text/plain": [
              "plot without title"
            ]
          },
          "metadata": {
            "image/png": {
              "height": 420,
              "width": 420
            }
          },
          "output_type": "display_data"
        }
      ],
      "source": [
        "# 15. Association of Default and Score_Source_3\n",
        "#Boxplot\n",
        "temp <- subset(df, !(df$Score_Source_3 %in% outliers(df$Score_Source_3)))\n",
        "\n",
        "ggplot(temp, aes(x = Default, y = Score_Source_3)) + \n",
        "  geom_boxplot(fill = 'lightblue', outlier.shape = 4) + \n",
        "  coord_flip() +\n",
        "  ggtitle(\"Association of Default and Score_Source_3\")"
      ]
    },
    {
      "cell_type": "code",
      "execution_count": 36,
      "metadata": {
        "vscode": {
          "languageId": "r"
        }
      },
      "outputs": [
        {
          "data": {
            "image/png": "[encoded data removed]",
            "text/plain": [
              "plot without title"
            ]
          },
          "metadata": {
            "image/png": {
              "height": 420,
              "width": 420
            }
          },
          "output_type": "display_data"
        }
      ],
      "source": [
        "# 16. Association of Default and Social_Circle_Default\n",
        "#Boxplot\n",
        "temp <- subset(df, !(df$Social_Circle_Default %in% outliers(df$Social_Circle_Default)))\n",
        "\n",
        "ggplot(temp, aes(x = Default, y = Social_Circle_Default)) + \n",
        "  geom_boxplot(fill = 'lightblue', outlier.shape = 4) + \n",
        "  coord_flip() +\n",
        "  ggtitle(\"Association of Default and Social_Circle_Default\")\n"
      ]
    },
    {
      "cell_type": "code",
      "execution_count": 37,
      "metadata": {
        "vscode": {
          "languageId": "r"
        }
      },
      "outputs": [
        {
          "data": {
            "image/png": "[encoded data removed]",
            "text/plain": [
              "plot without title"
            ]
          },
          "metadata": {
            "image/png": {
              "height": 420,
              "width": 420
            }
          },
          "output_type": "display_data"
        }
      ],
      "source": [
        "# 17. Association of Default and Phone_Change\n",
        "\n",
        "#Boxplot\n",
        "temp <- subset(df, !(df$Phone_Change %in% outliers(df$Phone_Change)))\n",
        "\n",
        "ggplot(temp, aes(x = Default, y = Phone_Change)) + \n",
        "  geom_boxplot(fill = 'lightblue', outlier.shape = 4) + \n",
        "  coord_flip() +\n",
        "  ggtitle(\"Association of Default and Phone_Change\")"
      ]
    },
    {
      "cell_type": "code",
      "execution_count": 38,
      "metadata": {
        "vscode": {
          "languageId": "r"
        }
      },
      "outputs": [],
      "source": [
        "rm(temp)"
      ]
    },
    {
      "cell_type": "markdown",
      "metadata": {},
      "source": [
        "## 5. Hypothesis Testing"
      ]
    },
    {
      "cell_type": "code",
      "execution_count": 39,
      "metadata": {
        "vscode": {
          "languageId": "r"
        }
      },
      "outputs": [
        {
          "data": {
            "text/plain": [
              "\n",
              "\t2-sample test for equality of proportions without continuity\n",
              "\tcorrection\n",
              "\n",
              "data:  c(win1, win2) out of c(n1, n2)\n",
              "X-squared = 0.28218, df = 1, p-value = 0.5953\n",
              "alternative hypothesis: two.sided\n",
              "95 percent confidence interval:\n",
              " -0.04979116  0.02644360\n",
              "sample estimates:\n",
              "    prop 1     prop 2 \n",
              "0.03960396 0.05127774 \n"
            ]
          },
          "metadata": {},
          "output_type": "display_data"
        }
      ],
      "source": [
        "# 01. Default and Client_Education\n",
        "n1 <- sum(df$Client_Education == \"Post Grad\")\n",
        "n2 <- sum(df$Client_Education == \"Graduation\")\n",
        "win1 <- sum(df$Client_Education == \"Post Grad\" & df$Default == 1)\n",
        "win2 <- sum(df$Client_Education == \"Graduation\" & df$Default == 1)\n",
        "prop.test(x=c(win1, win2), n=c(n1,n2), alternative = \"two.sided\", correct = F)"
      ]
    },
    {
      "cell_type": "code",
      "execution_count": 40,
      "metadata": {
        "vscode": {
          "languageId": "r"
        }
      },
      "outputs": [
        {
          "data": {
            "text/plain": [
              "        \n",
              "             0     1\n",
              "  Female 37613  4174\n",
              "  Male   74398  5671"
            ]
          },
          "metadata": {},
          "output_type": "display_data"
        },
        {
          "data": {
            "text/plain": [
              "\n",
              "\tPearson's Chi-squared test\n",
              "\n",
              "data:  tabG_D\n",
              "X-squared = 312.25, df = 1, p-value < 2.2e-16\n"
            ]
          },
          "metadata": {},
          "output_type": "display_data"
        }
      ],
      "source": [
        "# 02. Default and Client_Gender\n",
        "G_D <- subset(df, Client_Gender %in% c(\"Male\", \"Female\"))\n",
        "tabG_D <- table(G_D$Client_Gender, G_D$Default)\n",
        "tabG_D\n",
        "chisq.test(tabG_D, correct = FALSE)"
      ]
    },
    {
      "cell_type": "code",
      "execution_count": 41,
      "metadata": {
        "vscode": {
          "languageId": "r"
        }
      },
      "outputs": [
        {
          "data": {
            "text/html": [
              "1.64485362695147"
            ],
            "text/latex": [
              "1.64485362695147"
            ],
            "text/markdown": [
              "1.64485362695147"
            ],
            "text/plain": [
              "[1] 1.644854"
            ]
          },
          "metadata": {},
          "output_type": "display_data"
        },
        {
          "data": {
            "text/html": [
              "0"
            ],
            "text/latex": [
              "0"
            ],
            "text/markdown": [
              "0"
            ],
            "text/plain": [
              "[1] 0"
            ]
          },
          "metadata": {},
          "output_type": "display_data"
        },
        {
          "data": {
            "text/plain": [
              "\n",
              "\tOne Sample t-test\n",
              "\n",
              "data:  df$Client_Income\n",
              "t = 29.971, df = 121855, p-value < 2.2e-16\n",
              "alternative hypothesis: true mean is greater than 16000\n",
              "95 percent confidence interval:\n",
              " 16757.55      Inf\n",
              "sample estimates:\n",
              "mean of x \n",
              " 16801.54 \n"
            ]
          },
          "metadata": {},
          "output_type": "display_data"
        },
        {
          "data": {
            "text/plain": [
              "\n",
              "     One-sample t test power calculation \n",
              "\n",
              "              n = 1000\n",
              "          delta = 0.2\n",
              "             sd = 1.98\n",
              "      sig.level = 0.1\n",
              "          power = 0.9720205\n",
              "    alternative = one.sided\n"
            ]
          },
          "metadata": {},
          "output_type": "display_data"
        }
      ],
      "source": [
        "# 03. client_income\n",
        "xbar <- mean(df$Client_Income)\n",
        "se <- 2/sqrt(nrow(df))\n",
        "ztest <- (xbar-16000)/se\n",
        "qnorm(0.95)\n",
        "pnorm(ztest, lower.tail = F)\n",
        "\n",
        "t.test(df$Client_Income, mu=16000, alternative = \"greater\")\n",
        "\n",
        "power.t.test(n=1000, delta=0.2, sd=1.98, sig.level = 0.1, type=\"one.sample\", alternative = \"one.sided\")"
      ]
    },
    {
      "cell_type": "code",
      "execution_count": 42,
      "metadata": {
        "vscode": {
          "languageId": "r"
        }
      },
      "outputs": [
        {
          "data": {
            "image/png": "[encoded data removed]",
            "text/plain": [
              "Plot with title \"Normal Q-Q Plot\""
            ]
          },
          "metadata": {
            "image/png": {
              "height": 420,
              "width": 420
            }
          },
          "output_type": "display_data"
        },
        {
          "data": {
            "text/html": [
              "<style>\n",
              ".list-inline {list-style: none; margin:0; padding: 0}\n",
              ".list-inline>li {display: inline-block}\n",
              ".list-inline>li:not(:last-child)::after {content: \"\\00b7\"; padding: 0 .5ex}\n",
              "</style>\n",
              "<ol class=list-inline><li>13460.89050833</li><li>20142.1918646595</li></ol>\n"
            ],
            "text/latex": [
              "\\begin{enumerate*}\n",
              "\\item 13460.89050833\n",
              "\\item 20142.1918646595\n",
              "\\end{enumerate*}\n"
            ],
            "text/markdown": [
              "1. 13460.89050833\n",
              "2. 20142.1918646595\n",
              "\n",
              "\n"
            ],
            "text/plain": [
              "[1] 13460.89 20142.19"
            ]
          },
          "metadata": {},
          "output_type": "display_data"
        },
        {
          "data": {
            "image/png": "[encoded data removed]",
            "text/plain": [
              "Plot with title \"Normal Q-Q Plot\""
            ]
          },
          "metadata": {
            "image/png": {
              "height": 420,
              "width": 420
            }
          },
          "output_type": "display_data"
        }
      ],
      "source": [
        "# 04. confidence interval client_income\n",
        "sd <- sd(df$Client_Income)\n",
        "n=1000\n",
        "sample_xbar <- vector(\"numeric\", n)\n",
        "for (i in 1:n) {\n",
        "  index <- sample(1:nrow(df), 30)\n",
        "  my_sample <- df[index, ]\n",
        "  xbar <- mean(df$Client_Income)\n",
        "  sample_xbar[i] <- xbar\n",
        "}\n",
        "qqnorm(sample_xbar)\n",
        "qqline(sample_xbar)\n",
        "\n",
        "qqnorm(df$Client_Income)\n",
        "qqline(df$Client_Income)\n",
        "\n",
        "Q <- qnorm(1-0.05/2)\n",
        "se <- sd/sqrt(30)\n",
        "interval <- c(xbar-Q*se , xbar+Q*se)\n",
        "interval"
      ]
    },
    {
      "cell_type": "code",
      "execution_count": 43,
      "metadata": {
        "vscode": {
          "languageId": "r"
        }
      },
      "outputs": [
        {
          "data": {
            "text/plain": [
              "\n",
              "\t2-sample test for equality of proportions without continuity\n",
              "\tcorrection\n",
              "\n",
              "data:  c(win1, win2) out of c(n1, n2)\n",
              "X-squared = 54.637, df = 1, p-value = 1.45e-13\n",
              "alternative hypothesis: two.sided\n",
              "95 percent confidence interval:\n",
              " 0.03181147 0.06219868\n",
              "sample estimates:\n",
              "    prop 1     prop 2 \n",
              "0.12707775 0.08007267 \n"
            ]
          },
          "metadata": {},
          "output_type": "display_data"
        }
      ],
      "source": [
        "# 05. Default and Client_Housing_Type\n",
        "n1 <- sum(df$Client_Housing_Type == \"Rental\")\n",
        "n2 <- sum(df$Client_Housing_Type %in% c(\"Family\", \"Home\", \"Municipal\", \"Office\", \"Shared\"))\n",
        "win1 <- sum(df$Client_Housing_Type == \"Rental\" & df$Default == 1)\n",
        "win2 <- sum(df$Client_Housing_Type %in% c(\"Family\", \"Home\", \"Municipal\", \"Office\", \"Shared\") & df$Default == 1)\n",
        "prop.test(x=c(win1, win2), n=c(n1,n2), alternative = \"two.sided\", correct = F)"
      ]
    },
    {
      "cell_type": "code",
      "execution_count": 44,
      "metadata": {
        "vscode": {
          "languageId": "r"
        }
      },
      "outputs": [
        {
          "data": {
            "text/plain": [
              "\n",
              "\t2-sample test for equality of proportions without continuity\n",
              "\tcorrection\n",
              "\n",
              "data:  c(win1, win2) out of c(n1, n2)\n",
              "X-squared = 224.89, df = 1, p-value < 2.2e-16\n",
              "alternative hypothesis: two.sided\n",
              "95 percent confidence interval:\n",
              " 0.02100881 0.02758000\n",
              "sample estimates:\n",
              "   prop 1    prop 2 \n",
              "0.9281152 0.9038208 \n"
            ]
          },
          "metadata": {},
          "output_type": "display_data"
        }
      ],
      "source": [
        "# 06. Default and Age_Days\n",
        "n1 <- sum(df$Age_Days >= \"15000\")\n",
        "n2 <- sum(df$Age_Days < \"15000\")\n",
        "win1 <- sum(df$Age_Days >= \"15000\" & df$Default == 0)\n",
        "win2 <- sum(df$Age_Days < \"15000\" & df$Default == 0)\n",
        "prop.test(x=c(win1, win2), n=c(n1,n2), alternative = \"two.sided\", correct = F)"
      ]
    },
    {
      "cell_type": "code",
      "execution_count": 45,
      "metadata": {
        "vscode": {
          "languageId": "r"
        }
      },
      "outputs": [
        {
          "data": {
            "text/plain": [
              "\n",
              "\t2-sample test for equality of proportions without continuity\n",
              "\tcorrection\n",
              "\n",
              "data:  c(win1, win2) out of c(n1, n2)\n",
              "X-squared = 126.38, df = 1, p-value < 2.2e-16\n",
              "alternative hypothesis: two.sided\n",
              "95 percent confidence interval:\n",
              " -0.03125084 -0.02305843\n",
              "sample estimates:\n",
              "    prop 1     prop 2 \n",
              "0.05164627 0.07880090 \n"
            ]
          },
          "metadata": {},
          "output_type": "display_data"
        },
        {
          "data": {
            "text/plain": [
              "\n",
              "\t2-sample test for equality of proportions without continuity\n",
              "\tcorrection\n",
              "\n",
              "data:  c(win1, win2) out of c(n1, n2)\n",
              "X-squared = 379.35, df = 1, p-value < 2.2e-16\n",
              "alternative hypothesis: two.sided\n",
              "95 percent confidence interval:\n",
              " -0.06854134 -0.05653385\n",
              "sample estimates:\n",
              "    prop 1     prop 2 \n",
              "0.05164627 0.11418387 \n"
            ]
          },
          "metadata": {},
          "output_type": "display_data"
        }
      ],
      "source": [
        "# 07. Default and Cleint_City_Rating\n",
        "n1 <- sum(df$Cleint_City_Rating == \"1\")\n",
        "n2 <- sum(df$Cleint_City_Rating == \"2\")\n",
        "win1 <- sum(df$Cleint_City_Rating == \"1\" & df$Default == 1)\n",
        "win2 <- sum(df$Cleint_City_Rating == \"2\" & df$Default == 1)\n",
        "prop.test(x=c(win1, win2), n=c(n1,n2), alternative = \"two.sided\", correct = F)\n",
        "\n",
        "n1 <- sum(df$Cleint_City_Rating == \"1\")\n",
        "n2 <- sum(df$Cleint_City_Rating == \"3\")\n",
        "win1 <- sum(df$Cleint_City_Rating == \"1\" & df$Default == 1)\n",
        "win2 <- sum(df$Cleint_City_Rating == \"3\" & df$Default == 1)\n",
        "prop.test(x=c(win1, win2), n=c(n1,n2), alternative = \"two.sided\", correct = F)"
      ]
    },
    {
      "cell_type": "markdown",
      "metadata": {
        "id": "Fi3iYscempeH"
      },
      "source": [
        "## Predictive Models"
      ]
    },
    {
      "cell_type": "code",
      "execution_count": 46,
      "metadata": {
        "id": "bvCD7fCMWGAd",
        "vscode": {
          "languageId": "r"
        }
      },
      "outputs": [],
      "source": [
        "#Loading Dataset\n",
        "df <- read.csv('Train_Imputed_norm.csv', stringsAsFactors = T)\n",
        "df$Default <- factor(df$Default)"
      ]
    },
    {
      "cell_type": "code",
      "execution_count": 47,
      "metadata": {
        "id": "99KnkwJQWHu8",
        "vscode": {
          "languageId": "r"
        }
      },
      "outputs": [],
      "source": [
        "# Split dataset to train and test Sets\n",
        "set.seed(500)\n",
        "spt <- sample.split(df$Default, SplitRatio = 0.8)\n",
        "train <- subset(df, spt == T)\n",
        "test  <- subset(df, spt == F)\n",
        "rm(spt)"
      ]
    },
    {
      "cell_type": "markdown",
      "metadata": {
        "id": "30DYGH4ftm6v"
      },
      "source": [
        "## Logistic Regression"
      ]
    },
    {
      "cell_type": "code",
      "execution_count": 48,
      "metadata": {
        "colab": {
          "base_uri": "https://localhost:8080/",
          "height": 1000
        },
        "id": "6OpBH6H9WMS7",
        "outputId": "2a84254c-30bd-4596-e366-e64b81689bab",
        "vscode": {
          "languageId": "r"
        }
      },
      "outputs": [
        {
          "data": {
            "text/plain": [
              "\n",
              "Call:\n",
              "glm(formula = Default ~ . - ID - Mobile_Tag, family = \"binomial\", \n",
              "    data = train)\n",
              "\n",
              "Deviance Residuals: \n",
              "    Min       1Q   Median       3Q      Max  \n",
              "-1.3816  -0.4376  -0.3245  -0.2379   3.2266  \n",
              "\n",
              "Coefficients:\n",
              "                                       Estimate Std. Error z value Pr(>|z|)    \n",
              "(Intercept)                          -8.041e-01  5.569e-01  -1.444 0.148734    \n",
              "Client_Income                        -3.631e-06  1.840e-06  -1.974 0.048410 *  \n",
              "Car_Owned                            -2.617e-01  2.880e-02  -9.088  < 2e-16 ***\n",
              "Bike_Owned                            8.136e-03  2.576e-02   0.316 0.752124    \n",
              "Active_Loan                           8.235e-03  2.432e-02   0.339 0.734952    \n",
              "House_Own                             7.015e-02  2.776e-02   2.528 0.011486 *  \n",
              "Child_Count                          -1.508e-01  3.707e-01  -0.407 0.684074    \n",
              "Credit_Amount                        -1.153e-06  5.094e-07  -2.264 0.023592 *  \n",
              "Loan_Annuity                          6.854e-05  1.422e-05   4.819 1.44e-06 ***\n",
              "Accompany_ClientGroup                 1.179e-02  4.042e-01   0.029 0.976725    \n",
              "Accompany_ClientKids                 -1.384e-01  1.248e-01  -1.109 0.267406    \n",
              "Accompany_ClientOthers               -4.744e-02  1.291e-01  -0.367 0.713281    \n",
              "Accompany_ClientPartner              -1.143e-01  6.629e-02  -1.724 0.084752 .  \n",
              "Accompany_ClientRelative             -2.818e-02  3.761e-02  -0.749 0.453655    \n",
              "Client_Income_TypeGovt Job            2.482e-02  6.563e-02   0.378 0.705301    \n",
              "Client_Income_TypeOther               1.441e+00  5.719e-01   2.521 0.011717 *  \n",
              "Client_Income_TypeRetired            -1.018e-01  8.582e-02  -1.187 0.235417    \n",
              "Client_Income_TypeService             1.154e-01  3.127e-02   3.690 0.000224 ***\n",
              "Client_EducationGraduation dropout    1.579e-01  7.229e-02   2.184 0.028947 *  \n",
              "Client_EducationJunior secondary      3.888e-01  1.054e-01   3.690 0.000224 ***\n",
              "Client_EducationPost Grad            -4.154e-02  5.316e-01  -0.078 0.937714    \n",
              "Client_EducationSecondary             3.576e-01  3.582e-02   9.981  < 2e-16 ***\n",
              "Client_Marital_StatusM               -2.439e-01  3.714e-01  -0.657 0.511276    \n",
              "Client_Marital_StatusS               -4.638e-03  5.820e-02  -0.080 0.936480    \n",
              "Client_Marital_StatusW               -2.055e-02  7.817e-02  -0.263 0.792586    \n",
              "Client_GenderMale                    -2.370e-01  3.168e-02  -7.480 7.42e-14 ***\n",
              "Loan_Contract_TypeRL                 -3.616e-01  4.979e-02  -7.262 3.81e-13 ***\n",
              "Client_Housing_TypeHome              -1.719e-02  5.186e-02  -0.332 0.740242    \n",
              "Client_Housing_TypeMunicipal          1.726e-01  7.953e-02   2.171 0.029951 *  \n",
              "Client_Housing_TypeOffice            -8.678e-02  1.464e-01  -0.593 0.553325    \n",
              "Client_Housing_TypeRental            -6.298e-03  9.613e-02  -0.066 0.947762    \n",
              "Client_Housing_TypeShared             1.586e-01  1.878e-01   0.845 0.398379    \n",
              "Population_Region_Relative           -3.574e-02  1.110e-01  -0.322 0.747494    \n",
              "Age_Days                              2.229e-05  4.866e-06   4.580 4.65e-06 ***\n",
              "Employed_Days                        -5.341e-05  6.662e-06  -8.017 1.08e-15 ***\n",
              "Registration_Days                    -4.439e-06  3.898e-06  -1.139 0.254806    \n",
              "ID_Days                              -5.203e-05  8.599e-06  -6.050 1.44e-09 ***\n",
              "Own_House_Age                         1.894e-03  9.812e-04   1.931 0.053519 .  \n",
              "Homephone_Tag                         7.011e-02  3.206e-02   2.187 0.028775 *  \n",
              "Workphone_Working                    -9.429e-02  3.008e-02  -3.135 0.001718 ** \n",
              "Client_OccupationCleaning            -4.816e-02  1.012e-01  -0.476 0.634153    \n",
              "Client_OccupationCooking              1.458e-01  9.369e-02   1.556 0.119689    \n",
              "Client_OccupationCore                -9.421e-02  8.062e-02  -1.168 0.242609    \n",
              "Client_OccupationDrivers              4.479e-02  8.121e-02   0.552 0.581290    \n",
              "Client_OccupationHigh skill tech     -1.259e-01  9.097e-02  -1.384 0.166289    \n",
              "Client_OccupationHR                  -7.475e-02  2.598e-01  -0.288 0.773589    \n",
              "Client_OccupationIT                   9.976e-02  2.565e-01   0.389 0.697372    \n",
              "Client_OccupationLaborers             4.300e-04  7.155e-02   0.006 0.995204    \n",
              "Client_OccupationLow-skill Laborers   1.920e-01  1.225e-01   1.568 0.116928    \n",
              "Client_OccupationManagers            -5.520e-02  8.208e-02  -0.673 0.501257    \n",
              "Client_OccupationMedicine             8.413e-02  1.057e-01   0.796 0.426276    \n",
              "Client_OccupationPrivate service     -1.163e-01  1.389e-01  -0.838 0.402246    \n",
              "Client_OccupationRealty agents       -3.415e-01  2.310e-01  -1.479 0.139266    \n",
              "Client_OccupationSales                3.605e-02  7.512e-02   0.480 0.631276    \n",
              "Client_OccupationSecretaries         -5.683e-02  1.857e-01  -0.306 0.759560    \n",
              "Client_OccupationSecurity            -1.734e-02  9.680e-02  -0.179 0.857855    \n",
              "Client_OccupationWaiters/barmen       6.851e-02  1.478e-01   0.464 0.642900    \n",
              "Client_Family_Members                 1.878e-01  3.697e-01   0.508 0.611412    \n",
              "Cleint_City_Rating                    1.316e-01  2.668e-02   4.932 8.13e-07 ***\n",
              "Application_Process_Day               1.682e-02  6.906e-03   2.435 0.014888 *  \n",
              "Application_Process_Hour              9.098e-04  3.915e-03   0.232 0.816238    \n",
              "Client_Permanent_Match_TagYes        -1.442e-01  4.087e-02  -3.529 0.000417 ***\n",
              "Client_Contact_Work_TagYes            2.837e-02  3.121e-02   0.909 0.363315    \n",
              "Type_OrganizationAgriculture          3.826e-01  4.017e-01   0.953 0.340819    \n",
              "Type_OrganizationBank                -2.493e-01  4.183e-01  -0.596 0.551138    \n",
              "Type_OrganizationBusiness Entity      2.251e-01  3.861e-01   0.583 0.559904    \n",
              "Type_OrganizationCleaning             4.990e-01  5.086e-01   0.981 0.326578    \n",
              "Type_OrganizationConstruction         4.121e-01  3.919e-01   1.051 0.293057    \n",
              "Type_OrganizationCulture              7.180e-01  5.293e-01   1.357 0.174916    \n",
              "Type_OrganizationElectricity         -2.199e-01  4.676e-01  -0.470 0.638101    \n",
              "Type_OrganizationEmergency            7.261e-01  4.589e-01   1.582 0.113646    \n",
              "Type_OrganizationGovernment           9.336e-02  3.924e-01   0.238 0.811942    \n",
              "Type_OrganizationHotel                2.949e-02  4.475e-01   0.066 0.947463    \n",
              "Type_OrganizationHousing              1.769e-01  4.053e-01   0.436 0.662495    \n",
              "Type_OrganizationIndustry             7.463e-02  3.897e-01   0.192 0.848131    \n",
              "Type_OrganizationInsurance           -7.926e-01  6.395e-01  -1.239 0.215219    \n",
              "Type_OrganizationKindergarten         1.224e-01  3.953e-01   0.310 0.756776    \n",
              "Type_OrganizationLegal Services       7.886e-01  5.316e-01   1.484 0.137930    \n",
              "Type_OrganizationMedicine             1.100e-01  3.943e-01   0.279 0.780303    \n",
              "Type_OrganizationMilitary            -3.616e-01  4.197e-01  -0.862 0.388937    \n",
              "Type_OrganizationMobile              -1.428e-01  5.791e-01  -0.247 0.805200    \n",
              "Type_OrganizationOther                1.810e-01  3.894e-01   0.465 0.641941    \n",
              "Type_OrganizationPolice              -2.275e-01  4.265e-01  -0.533 0.593756    \n",
              "Type_OrganizationPostal               1.884e-01  4.126e-01   0.457 0.647908    \n",
              "Type_OrganizationRealtor              9.231e-01  4.991e-01   1.850 0.064379 .  \n",
              "Type_OrganizationReligion             5.594e-01  8.544e-01   0.655 0.512663    \n",
              "Type_OrganizationRestaurant           1.605e-01  4.112e-01   0.390 0.696234    \n",
              "Type_OrganizationSchool              -1.001e-01  3.962e-01  -0.253 0.800582    \n",
              "Type_OrganizationSecurity             3.058e-01  4.024e-01   0.760 0.447305    \n",
              "Type_OrganizationSecurity Ministries -2.185e-01  4.338e-01  -0.504 0.614421    \n",
              "Type_OrganizationSelf-employed        3.021e-01  3.868e-01   0.781 0.434797    \n",
              "Type_OrganizationServices             1.226e-01  4.361e-01   0.281 0.778675    \n",
              "Type_OrganizationTelecom              1.671e-01  4.872e-01   0.343 0.731547    \n",
              "Type_OrganizationTrade                1.129e-01  3.895e-01   0.290 0.771958    \n",
              "Type_OrganizationTransport            3.534e-01  3.909e-01   0.904 0.366047    \n",
              "Type_OrganizationUniversity           1.706e-01  4.414e-01   0.386 0.699186    \n",
              "Type_OrganizationXNA                  1.656e-01  3.918e-01   0.423 0.672643    \n",
              "Score_Source_1                       -1.031e+00  8.047e-02 -12.818  < 2e-16 ***\n",
              "Score_Source_2                       -1.830e+00  6.365e-02 -28.750  < 2e-16 ***\n",
              "Score_Source_3                       -2.100e+00  6.361e-02 -33.012  < 2e-16 ***\n",
              "Social_Circle_Default                -4.777e-01  1.373e-01  -3.479 0.000504 ***\n",
              "Phone_Change                         -6.800e-05  1.664e-05  -4.086 4.39e-05 ***\n",
              "Credit_Bureau                         1.119e-02  6.545e-03   1.710 0.087245 .  \n",
              "---\n",
              "Signif. codes:  0 '***' 0.001 '**' 0.01 '*' 0.05 '.' 0.1 ' ' 1\n",
              "\n",
              "(Dispersion parameter for binomial family taken to be 1)\n",
              "\n",
              "    Null deviance: 54728  on 97484  degrees of freedom\n",
              "Residual deviance: 49564  on 97382  degrees of freedom\n",
              "AIC: 49770\n",
              "\n",
              "Number of Fisher Scoring iterations: 6\n"
            ]
          },
          "metadata": {},
          "output_type": "display_data"
        }
      ],
      "source": [
        "lr_model = glm(Default ~ . -ID -Mobile_Tag, data = train, family = 'binomial')\n",
        "summary(lr_model)"
      ]
    },
    {
      "cell_type": "code",
      "execution_count": 49,
      "metadata": {
        "colab": {
          "base_uri": "https://localhost:8080/",
          "height": 1000
        },
        "id": "a1CwHUaoWPaw",
        "outputId": "440d4214-04da-4d16-c6d2-8412f50955f4",
        "vscode": {
          "languageId": "r"
        }
      },
      "outputs": [
        {
          "data": {
            "text/plain": [
              "\n",
              "Call:\n",
              "glm(formula = Default ~ . - ID - Mobile_Tag - Bike_Owned - Active_Loan - \n",
              "    Application_Process_Hour - Child_Count - Type_Organization - \n",
              "    Client_Occupation - Population_Region_Relative - Registration_Days - \n",
              "    Client_Contact_Work_Tag - Accompany_Client - Client_Marital_Status - \n",
              "    Credit_Bureau - Client_Family_Members - Homephone_Tag, family = \"binomial\", \n",
              "    data = train)\n",
              "\n",
              "Deviance Residuals: \n",
              "    Min       1Q   Median       3Q      Max  \n",
              "-1.3994  -0.4387  -0.3258  -0.2408   3.2314  \n",
              "\n",
              "Coefficients:\n",
              "                                     Estimate Std. Error z value Pr(>|z|)    \n",
              "(Intercept)                        -3.957e-01  1.140e-01  -3.471 0.000518 ***\n",
              "Client_Income                      -3.690e-06  1.774e-06  -2.080 0.037507 *  \n",
              "Car_Owned                          -2.610e-01  2.837e-02  -9.200  < 2e-16 ***\n",
              "House_Own                           6.486e-02  2.733e-02   2.374 0.017614 *  \n",
              "Credit_Amount                      -1.451e-06  5.047e-07  -2.875 0.004037 ** \n",
              "Loan_Annuity                        7.299e-05  1.413e-05   5.166 2.39e-07 ***\n",
              "Client_Income_TypeGovt Job         -1.249e-01  5.966e-02  -2.093 0.036307 *  \n",
              "Client_Income_TypeOther             1.367e+00  5.681e-01   2.406 0.016143 *  \n",
              "Client_Income_TypeRetired          -1.622e-01  5.182e-02  -3.129 0.001752 ** \n",
              "Client_Income_TypeService           1.160e-01  3.093e-02   3.751 0.000176 ***\n",
              "Client_EducationGraduation dropout  1.773e-01  7.198e-02   2.463 0.013769 *  \n",
              "Client_EducationJunior secondary    4.395e-01  1.048e-01   4.195 2.73e-05 ***\n",
              "Client_EducationPost Grad          -1.251e-02  5.301e-01  -0.024 0.981166    \n",
              "Client_EducationSecondary           4.028e-01  3.462e-02  11.634  < 2e-16 ***\n",
              "Client_GenderMale                  -2.511e-01  2.844e-02  -8.830  < 2e-16 ***\n",
              "Loan_Contract_TypeRL               -3.688e-01  4.958e-02  -7.439 1.02e-13 ***\n",
              "Client_Housing_TypeHome            -1.340e-02  5.139e-02  -0.261 0.794259    \n",
              "Client_Housing_TypeMunicipal        1.722e-01  7.919e-02   2.174 0.029704 *  \n",
              "Client_Housing_TypeOffice          -1.282e-01  1.454e-01  -0.881 0.378113    \n",
              "Client_Housing_TypeRental          -1.382e-05  9.580e-02   0.000 0.999885    \n",
              "Client_Housing_TypeShared           1.776e-01  1.873e-01   0.948 0.343012    \n",
              "Age_Days                            2.218e-05  4.521e-06   4.906 9.30e-07 ***\n",
              "Employed_Days                      -5.885e-05  6.486e-06  -9.073  < 2e-16 ***\n",
              "ID_Days                            -4.962e-05  8.502e-06  -5.836 5.34e-09 ***\n",
              "Own_House_Age                       1.961e-03  9.712e-04   2.019 0.043437 *  \n",
              "Workphone_Working                  -8.129e-02  2.850e-02  -2.852 0.004342 ** \n",
              "Cleint_City_Rating                  1.347e-01  2.578e-02   5.224 1.75e-07 ***\n",
              "Application_Process_Day             1.624e-02  6.889e-03   2.357 0.018422 *  \n",
              "Client_Permanent_Match_TagYes      -1.481e-01  4.066e-02  -3.642 0.000270 ***\n",
              "Score_Source_1                     -1.060e+00  7.994e-02 -13.266  < 2e-16 ***\n",
              "Score_Source_2                     -1.835e+00  6.315e-02 -29.064  < 2e-16 ***\n",
              "Score_Source_3                     -2.106e+00  6.302e-02 -33.416  < 2e-16 ***\n",
              "Social_Circle_Default              -4.697e-01  1.359e-01  -3.457 0.000546 ***\n",
              "Phone_Change                       -6.206e-05  1.642e-05  -3.779 0.000157 ***\n",
              "---\n",
              "Signif. codes:  0 '***' 0.001 '**' 0.01 '*' 0.05 '.' 0.1 ' ' 1\n",
              "\n",
              "(Dispersion parameter for binomial family taken to be 1)\n",
              "\n",
              "    Null deviance: 54728  on 97484  degrees of freedom\n",
              "Residual deviance: 49721  on 97451  degrees of freedom\n",
              "AIC: 49789\n",
              "\n",
              "Number of Fisher Scoring iterations: 6\n"
            ]
          },
          "metadata": {},
          "output_type": "display_data"
        }
      ],
      "source": [
        "lr_model = glm(Default ~ . -ID - Mobile_Tag -Bike_Owned -Active_Loan -Application_Process_Hour\n",
        "                           -Child_Count -Type_Organization -Client_Occupation\n",
        "                           -Population_Region_Relative -Registration_Days -Client_Contact_Work_Tag\n",
        "                           -Accompany_Client -Client_Marital_Status -Credit_Bureau\n",
        "                           -Client_Family_Members -Homephone_Tag\n",
        "                     , data = train, family = 'binomial' )\n",
        "summary(lr_model)"
      ]
    },
    {
      "cell_type": "code",
      "execution_count": 50,
      "metadata": {
        "colab": {
          "base_uri": "https://localhost:8080/",
          "height": 486
        },
        "id": "E8GR0WhufJAF",
        "outputId": "1deb353c-5c28-4066-b5b4-ed5322832185",
        "vscode": {
          "languageId": "r"
        }
      },
      "outputs": [
        {
          "data": {
            "text/plain": [
              "Confusion Matrix and Statistics\n",
              "\n",
              "          Reference\n",
              "Prediction     0     1\n",
              "         0 59872  2636\n",
              "         1 29737  5240\n",
              "                                         \n",
              "               Accuracy : 0.6679         \n",
              "                 95% CI : (0.665, 0.6709)\n",
              "    No Information Rate : 0.9192         \n",
              "    P-Value [Acc > NIR] : 1              \n",
              "                                         \n",
              "                  Kappa : 0.1298         \n",
              "                                         \n",
              " Mcnemar's Test P-Value : <2e-16         \n",
              "                                         \n",
              "            Sensitivity : 0.6681         \n",
              "            Specificity : 0.6653         \n",
              "         Pos Pred Value : 0.9578         \n",
              "         Neg Pred Value : 0.1498         \n",
              "             Prevalence : 0.9192         \n",
              "         Detection Rate : 0.6142         \n",
              "   Detection Prevalence : 0.6412         \n",
              "      Balanced Accuracy : 0.6667         \n",
              "                                         \n",
              "       'Positive' Class : 0              \n",
              "                                         "
            ]
          },
          "metadata": {},
          "output_type": "display_data"
        }
      ],
      "source": [
        "# Model Optimization\n",
        "pred <- predict(lr_model, type = 'response')\n",
        "pred_class <- factor(ifelse(pred >= 0.08, 1, 0))\n",
        "confusionMatrix(pred_class, train$Default)"
      ]
    },
    {
      "cell_type": "code",
      "execution_count": 51,
      "metadata": {
        "colab": {
          "base_uri": "https://localhost:8080/",
          "height": 454
        },
        "id": "sPht5IYBg6f3",
        "outputId": "f8cfe74f-e0a0-47a1-810e-7cd358736eec",
        "vscode": {
          "languageId": "r"
        }
      },
      "outputs": [
        {
          "data": {
            "text/html": [
              "0.726765200982836"
            ],
            "text/latex": [
              "0.726765200982836"
            ],
            "text/markdown": [
              "0.726765200982836"
            ],
            "text/plain": [
              "[1] 0.7267652"
            ]
          },
          "metadata": {},
          "output_type": "display_data"
        },
        {
          "data": {
            "image/png": "[encoded data removed]",
            "text/plain": [
              "plot without title"
            ]
          },
          "metadata": {
            "image/png": {
              "height": 420,
              "width": 420
            }
          },
          "output_type": "display_data"
        }
      ],
      "source": [
        "# ROC Curve for train dataset\n",
        "pred_roc <- prediction(predictions = pred, labels = train$Default)\n",
        "perf_roc <- performance(pred_roc, 'tpr', 'fpr')\n",
        "plot(perf_roc, print.cutoffs.at = seq(0, 1, 0.1), text.adj = c(0.2, 1))\n",
        "mtext(side = 3, text=\"Logistic Regression ROC Curve for train data\")\n",
        "\n",
        "auc <- performance(pred_roc, \"auc\")\n",
        "auc <- as.numeric(auc@y.values)\n",
        "auc"
      ]
    },
    {
      "cell_type": "code",
      "execution_count": 52,
      "metadata": {
        "colab": {
          "base_uri": "https://localhost:8080/",
          "height": 486
        },
        "id": "LZ9ycnS3hTUa",
        "outputId": "ba15b457-5807-422b-9295-4433860315f7",
        "vscode": {
          "languageId": "r"
        }
      },
      "outputs": [
        {
          "data": {
            "text/plain": [
              "Confusion Matrix and Statistics\n",
              "\n",
              "          Reference\n",
              "Prediction     0     1\n",
              "         0 15015   689\n",
              "         1  7387  1280\n",
              "                                          \n",
              "               Accuracy : 0.6686          \n",
              "                 95% CI : (0.6627, 0.6745)\n",
              "    No Information Rate : 0.9192          \n",
              "    P-Value [Acc > NIR] : 1               \n",
              "                                          \n",
              "                  Kappa : 0.1256          \n",
              "                                          \n",
              " Mcnemar's Test P-Value : <2e-16          \n",
              "                                          \n",
              "            Sensitivity : 0.6703          \n",
              "            Specificity : 0.6501          \n",
              "         Pos Pred Value : 0.9561          \n",
              "         Neg Pred Value : 0.1477          \n",
              "             Prevalence : 0.9192          \n",
              "         Detection Rate : 0.6161          \n",
              "   Detection Prevalence : 0.6444          \n",
              "      Balanced Accuracy : 0.6602          \n",
              "                                          \n",
              "       'Positive' Class : 0               \n",
              "                                          "
            ]
          },
          "metadata": {},
          "output_type": "display_data"
        }
      ],
      "source": [
        "# Model Performance\n",
        "pred <- predict(lr_model, newdata = test, type = 'response')\n",
        "pred_class <- factor(ifelse(pred >= 0.08, 1, 0))\n",
        "confusionMatrix(pred_class, test$Default)"
      ]
    },
    {
      "cell_type": "code",
      "execution_count": 53,
      "metadata": {
        "colab": {
          "base_uri": "https://localhost:8080/",
          "height": 454
        },
        "id": "Qq6ldARIhWnU",
        "outputId": "91ad5d6e-8540-4897-bf0c-e9bc4f291c4e",
        "vscode": {
          "languageId": "r"
        }
      },
      "outputs": [
        {
          "data": {
            "text/html": [
              "0.719318211857033"
            ],
            "text/latex": [
              "0.719318211857033"
            ],
            "text/markdown": [
              "0.719318211857033"
            ],
            "text/plain": [
              "[1] 0.7193182"
            ]
          },
          "metadata": {},
          "output_type": "display_data"
        },
        {
          "data": {
            "image/png": "[encoded data removed]",
            "text/plain": [
              "plot without title"
            ]
          },
          "metadata": {
            "image/png": {
              "height": 420,
              "width": 420
            }
          },
          "output_type": "display_data"
        }
      ],
      "source": [
        "# ROC Curve for test Dataset\n",
        "pred_roc <- prediction(predictions = pred, labels = test$Default)\n",
        "perf_roc <- performance(pred_roc, 'tpr', 'fpr')\n",
        "plot(perf_roc, print.cutoffs.at = seq(0, 1, 0.1), text.adj = c(0.2, 1))\n",
        "mtext(side = 3, text=\"Logistic Regression ROC Curve for test data\")\n",
        "\n",
        "auc <- performance(pred_roc, \"auc\")\n",
        "auc <- as.numeric(auc@y.values)\n",
        "auc"
      ]
    },
    {
      "cell_type": "markdown",
      "metadata": {
        "id": "8hve2b2Di66v"
      },
      "source": [
        "### Decision Tree"
      ]
    },
    {
      "cell_type": "code",
      "execution_count": 54,
      "metadata": {
        "id": "UlcIKw6hkHKj",
        "vscode": {
          "languageId": "r"
        }
      },
      "outputs": [],
      "source": [
        "# Specifying Num. and Cat. Variables\n",
        "num_cols <- c('Client_Income', 'Credit_Amount', 'Loan_Annuity', 'Population_Region_Relative',\n",
        "              'Age_Days', 'Employed_Days', 'Registration_Days', 'ID_Days', 'Own_House_Age',\n",
        "              'Application_Process_Hour', 'Score_Source_1', 'Score_Source_2', 'Score_Source_3',\n",
        "              'Social_Circle_Default', 'Phone_Change', 'Credit_Bureau', 'Child_Count', 'Client_Family_Members')\n",
        "\n",
        "cat_cols <- c('Car_Owned', 'Bike_Owned', 'Active_Loan', 'House_Own', 'Accompany_Client',\n",
        "              'Client_Income_Type', 'Client_Education', 'Client_Marital_Status',\n",
        "              'Client_Gender', 'Loan_Contract_Type', 'Client_Housing_Type', 'Mobile_Tag',\n",
        "              'Homephone_Tag', 'Workphone_Working', 'Client_Occupation', 'Cleint_City_Rating',\n",
        "              'Client_Permanent_Match_Tag', 'Client_Contact_Work_Tag', 'Type_Organization',\n",
        "              'Application_Process_Day')\n",
        "\n",
        "# Normalize Num. Variables\n",
        "cols <- num_cols\n",
        "pre_proc_val <- preProcess(train[,cols], method = c(\"center\", \"scale\"))\n",
        "\n",
        "train[,cols] = predict(pre_proc_val, train[,cols])\n",
        "test[,cols] = predict(pre_proc_val, test[,cols])\n",
        "\n",
        "# Converting Cat. Variables to Factor\n",
        "train[cat_cols] <- lapply(train[cat_cols], factor)\n",
        "test[cat_cols] <- lapply(test[cat_cols], factor)"
      ]
    },
    {
      "cell_type": "code",
      "execution_count": 55,
      "metadata": {
        "colab": {
          "base_uri": "https://localhost:8080/",
          "height": 437
        },
        "id": "jL64uHvyi6cf",
        "outputId": "c0e2a615-dff0-4c76-bba5-c92d2385c30d",
        "vscode": {
          "languageId": "r"
        }
      },
      "outputs": [
        {
          "data": {
            "image/png": "[encoded data removed]",
            "text/plain": [
              "plot without title"
            ]
          },
          "metadata": {
            "image/png": {
              "height": 420,
              "width": 420
            }
          },
          "output_type": "display_data"
        }
      ],
      "source": [
        "t_model = rpart(Default ~ . -ID -Mobile_Tag, data = train, method = 'class', maxdepth = 6, cp = -1)\n",
        "prp(t_model)"
      ]
    },
    {
      "cell_type": "code",
      "execution_count": 56,
      "metadata": {
        "colab": {
          "base_uri": "https://localhost:8080/",
          "height": 486
        },
        "id": "-nxZoBFKeg25",
        "outputId": "3f3bb061-256d-4c83-b3f0-f2d80106d335",
        "vscode": {
          "languageId": "r"
        }
      },
      "outputs": [
        {
          "data": {
            "text/plain": [
              "Confusion Matrix and Statistics\n",
              "\n",
              "          Reference\n",
              "Prediction     0     1\n",
              "         0 58884  2673\n",
              "         1 30725  5203\n",
              "                                          \n",
              "               Accuracy : 0.6574          \n",
              "                 95% CI : (0.6544, 0.6604)\n",
              "    No Information Rate : 0.9192          \n",
              "    P-Value [Acc > NIR] : 1               \n",
              "                                          \n",
              "                  Kappa : 0.1211          \n",
              "                                          \n",
              " Mcnemar's Test P-Value : <2e-16          \n",
              "                                          \n",
              "            Sensitivity : 0.6571          \n",
              "            Specificity : 0.6606          \n",
              "         Pos Pred Value : 0.9566          \n",
              "         Neg Pred Value : 0.1448          \n",
              "             Prevalence : 0.9192          \n",
              "         Detection Rate : 0.6040          \n",
              "   Detection Prevalence : 0.6315          \n",
              "      Balanced Accuracy : 0.6589          \n",
              "                                          \n",
              "       'Positive' Class : 0               \n",
              "                                          "
            ]
          },
          "metadata": {},
          "output_type": "display_data"
        }
      ],
      "source": [
        "# Model Optimization\n",
        "pred <- predict(t_model, type = 'prob')\n",
        "pred <- pred[,2]\n",
        "pred_class <- factor(ifelse(pred >= 0.08, 1, 0))\n",
        "confusionMatrix(pred_class, train$Default)"
      ]
    },
    {
      "cell_type": "code",
      "execution_count": 57,
      "metadata": {
        "colab": {
          "base_uri": "https://localhost:8080/",
          "height": 454
        },
        "id": "5V4KwhOKmvkx",
        "outputId": "926507ab-7fc3-4564-b322-3c8439fe71ec",
        "vscode": {
          "languageId": "r"
        }
      },
      "outputs": [
        {
          "data": {
            "text/html": [
              "0.719565927836787"
            ],
            "text/latex": [
              "0.719565927836787"
            ],
            "text/markdown": [
              "0.719565927836787"
            ],
            "text/plain": [
              "[1] 0.7195659"
            ]
          },
          "metadata": {},
          "output_type": "display_data"
        },
        {
          "data": {
            "image/png": "[encoded data removed]",
            "text/plain": [
              "plot without title"
            ]
          },
          "metadata": {
            "image/png": {
              "height": 420,
              "width": 420
            }
          },
          "output_type": "display_data"
        }
      ],
      "source": [
        "# ROC Curve for train dataset\n",
        "pred_roc <- prediction(predictions = pred, labels = train$Default)\n",
        "perf_roc <- performance(pred_roc, 'tpr', 'fpr')\n",
        "plot(perf_roc, print.cutoffs.at = seq(0, 1, 0.1), text.adj = c(0.2, 1))\n",
        "mtext(side = 3, text=\"Decision Tree ROC Curve for train data\")\n",
        "\n",
        "auc <- performance(pred_roc, \"auc\")\n",
        "auc <- as.numeric(auc@y.values)\n",
        "auc"
      ]
    },
    {
      "cell_type": "code",
      "execution_count": 58,
      "metadata": {
        "colab": {
          "base_uri": "https://localhost:8080/",
          "height": 486
        },
        "id": "OVozG360X8_B",
        "outputId": "77c27980-1956-4650-ea91-d55aac98e92a",
        "vscode": {
          "languageId": "r"
        }
      },
      "outputs": [
        {
          "data": {
            "text/plain": [
              "Confusion Matrix and Statistics\n",
              "\n",
              "          Reference\n",
              "Prediction     0     1\n",
              "         0 14638   751\n",
              "         1  7764  1218\n",
              "                                          \n",
              "               Accuracy : 0.6506          \n",
              "                 95% CI : (0.6446, 0.6566)\n",
              "    No Information Rate : 0.9192          \n",
              "    P-Value [Acc > NIR] : 1               \n",
              "                                          \n",
              "                  Kappa : 0.1037          \n",
              "                                          \n",
              " Mcnemar's Test P-Value : <2e-16          \n",
              "                                          \n",
              "            Sensitivity : 0.6534          \n",
              "            Specificity : 0.6186          \n",
              "         Pos Pred Value : 0.9512          \n",
              "         Neg Pred Value : 0.1356          \n",
              "             Prevalence : 0.9192          \n",
              "         Detection Rate : 0.6006          \n",
              "   Detection Prevalence : 0.6314          \n",
              "      Balanced Accuracy : 0.6360          \n",
              "                                          \n",
              "       'Positive' Class : 0               \n",
              "                                          "
            ]
          },
          "metadata": {},
          "output_type": "display_data"
        }
      ],
      "source": [
        "# Model Performance\n",
        "pred <- predict(t_model, newdata = test, type = 'prob')\n",
        "pred <- pred[,2]\n",
        "pred_class <- factor(ifelse(pred >= 0.08, 1, 0))\n",
        "confusionMatrix(pred_class, test$Default)"
      ]
    },
    {
      "cell_type": "code",
      "execution_count": 59,
      "metadata": {
        "colab": {
          "base_uri": "https://localhost:8080/",
          "height": 454
        },
        "id": "qApEJ9JPnnZ5",
        "outputId": "304db2f2-70c3-4c78-b623-35bbe7cf7863",
        "vscode": {
          "languageId": "r"
        }
      },
      "outputs": [
        {
          "data": {
            "text/html": [
              "0.687025377595204"
            ],
            "text/latex": [
              "0.687025377595204"
            ],
            "text/markdown": [
              "0.687025377595204"
            ],
            "text/plain": [
              "[1] 0.6870254"
            ]
          },
          "metadata": {},
          "output_type": "display_data"
        },
        {
          "data": {
            "image/png": "[encoded data removed]",
            "text/plain": [
              "plot without title"
            ]
          },
          "metadata": {
            "image/png": {
              "height": 420,
              "width": 420
            }
          },
          "output_type": "display_data"
        }
      ],
      "source": [
        "# ROC Curve for test dataset\n",
        "pred_roc <- prediction(predictions = pred, labels = test$Default)\n",
        "perf_roc <- performance(pred_roc, 'tpr', 'fpr')\n",
        "plot(perf_roc, print.cutoffs.at = seq(0, 1, 0.1), text.adj = c(0.2, 1))\n",
        "mtext(side = 3, text=\"Decision Tree ROC Curve for test data\")\n",
        "\n",
        "auc <- performance(pred_roc, \"auc\")\n",
        "auc <- as.numeric(auc@y.values)\n",
        "auc"
      ]
    },
    {
      "cell_type": "markdown",
      "metadata": {
        "id": "X2IpfkelpeRC"
      },
      "source": [
        "## Random Forest"
      ]
    },
    {
      "cell_type": "code",
      "execution_count": 60,
      "metadata": {
        "colab": {
          "base_uri": "https://localhost:8080/",
          "height": 225
        },
        "id": "Kvcv-I2EmsHb",
        "outputId": "4898aa37-4bff-495b-990e-b2b1b9b00cee",
        "vscode": {
          "languageId": "r"
        }
      },
      "outputs": [
        {
          "data": {
            "text/plain": [
              "\n",
              "Call:\n",
              " randomForest(formula = Default ~ . - ID - Mobile_Tag, data = train,      ntree = 500) \n",
              "               Type of random forest: classification\n",
              "                     Number of trees: 500\n",
              "No. of variables tried at each split: 6\n",
              "\n",
              "        OOB estimate of  error rate: 7.7%\n",
              "Confusion matrix:\n",
              "      0   1  class.error\n",
              "0 89605   4 4.463837e-05\n",
              "1  7501 375 9.523870e-01"
            ]
          },
          "metadata": {},
          "output_type": "display_data"
        }
      ],
      "source": [
        "rf_model <- randomForest(Default ~ . -ID -Mobile_Tag\n",
        "                        , data = train, ntree = 500)\n",
        "rf_model"
      ]
    },
    {
      "cell_type": "code",
      "execution_count": 61,
      "metadata": {
        "colab": {
          "base_uri": "https://localhost:8080/",
          "height": 243
        },
        "id": "z_7pSAVIoMox",
        "outputId": "bb7de36e-4470-4a9a-a640-0cca1ad01a34",
        "vscode": {
          "languageId": "r"
        }
      },
      "outputs": [
        {
          "data": {
            "text/plain": [
              "\n",
              "Call:\n",
              " randomForest(formula = Default ~ . - ID - Mobile_Tag - House_Own -      Bike_Owned - Active_Loan - Car_Owned - Workphone_Working,      data = train, ntree = 500) \n",
              "               Type of random forest: classification\n",
              "                     Number of trees: 500\n",
              "No. of variables tried at each split: 5\n",
              "\n",
              "        OOB estimate of  error rate: 7.71%\n",
              "Confusion matrix:\n",
              "      0   1  class.error\n",
              "0 89604   5 5.579797e-05\n",
              "1  7510 366 9.535297e-01"
            ]
          },
          "metadata": {},
          "output_type": "display_data"
        }
      ],
      "source": [
        "rf_model <- randomForest(Default ~ . -ID -Mobile_Tag -House_Own -Bike_Owned -Active_Loan\n",
        "                                     -Car_Owned -Workphone_Working\n",
        "                        , data = train, ntree = 500)\n",
        "rf_model"
      ]
    },
    {
      "cell_type": "code",
      "execution_count": 62,
      "metadata": {
        "colab": {
          "base_uri": "https://localhost:8080/",
          "height": 486
        },
        "id": "uE6TN6pin8h7",
        "outputId": "b8812993-7236-42c8-c66e-18d9147438bf",
        "vscode": {
          "languageId": "r"
        }
      },
      "outputs": [
        {
          "data": {
            "text/plain": [
              "Confusion Matrix and Statistics\n",
              "\n",
              "          Reference\n",
              "Prediction     0     1\n",
              "         0 63349  2558\n",
              "         1 26260  5318\n",
              "                                          \n",
              "               Accuracy : 0.7044          \n",
              "                 95% CI : (0.7015, 0.7072)\n",
              "    No Information Rate : 0.9192          \n",
              "    P-Value [Acc > NIR] : 1               \n",
              "                                          \n",
              "                  Kappa : 0.1611          \n",
              "                                          \n",
              " Mcnemar's Test P-Value : <2e-16          \n",
              "                                          \n",
              "            Sensitivity : 0.7069          \n",
              "            Specificity : 0.6752          \n",
              "         Pos Pred Value : 0.9612          \n",
              "         Neg Pred Value : 0.1684          \n",
              "             Prevalence : 0.9192          \n",
              "         Detection Rate : 0.6498          \n",
              "   Detection Prevalence : 0.6761          \n",
              "      Balanced Accuracy : 0.6911          \n",
              "                                          \n",
              "       'Positive' Class : 0               \n",
              "                                          "
            ]
          },
          "metadata": {},
          "output_type": "display_data"
        }
      ],
      "source": [
        "# Model Optimization\n",
        "pred <- predict(rf_model, type = 'prob')\n",
        "pred <- pred[,2]\n",
        "pred_class <- factor(ifelse(pred >= 0.11, 1, 0))\n",
        "confusionMatrix(pred_class, train$Default)"
      ]
    },
    {
      "cell_type": "code",
      "execution_count": 63,
      "metadata": {
        "colab": {
          "base_uri": "https://localhost:8080/",
          "height": 454
        },
        "id": "cr_IeRdBoQ8f",
        "outputId": "1eff6ec4-ed13-4f8b-cd7d-b52c243dccfa",
        "vscode": {
          "languageId": "r"
        }
      },
      "outputs": [
        {
          "data": {
            "text/html": [
              "0.76044183921751"
            ],
            "text/latex": [
              "0.76044183921751"
            ],
            "text/markdown": [
              "0.76044183921751"
            ],
            "text/plain": [
              "[1] 0.7604418"
            ]
          },
          "metadata": {},
          "output_type": "display_data"
        },
        {
          "data": {
            "image/png": "[encoded data removed]",
            "text/plain": [
              "plot without title"
            ]
          },
          "metadata": {
            "image/png": {
              "height": 420,
              "width": 420
            }
          },
          "output_type": "display_data"
        }
      ],
      "source": [
        "# ROC Curve for train dataset\n",
        "pred_roc <- prediction(predictions = pred, labels = train$Default)\n",
        "perf_roc <- performance(pred_roc, 'tpr', 'fpr')\n",
        "plot(perf_roc, print.cutoffs.at = seq(0, 1, 0.1), text.adj = c(0.2, 1))\n",
        "mtext(side = 3, text=\"Random Forest ROC Curve for train data\")\n",
        "\n",
        "auc <- performance(pred_roc, \"auc\")\n",
        "auc <- as.numeric(auc@y.values)\n",
        "auc"
      ]
    },
    {
      "cell_type": "code",
      "execution_count": 64,
      "metadata": {
        "colab": {
          "base_uri": "https://localhost:8080/",
          "height": 486
        },
        "id": "8YUj_wQxoaVO",
        "outputId": "4e5decd0-b512-413c-87db-a668776de00a",
        "vscode": {
          "languageId": "r"
        }
      },
      "outputs": [
        {
          "data": {
            "text/plain": [
              "Confusion Matrix and Statistics\n",
              "\n",
              "          Reference\n",
              "Prediction     0     1\n",
              "         0 15831   631\n",
              "         1  6571  1338\n",
              "                                          \n",
              "               Accuracy : 0.7045          \n",
              "                 95% CI : (0.6987, 0.7102)\n",
              "    No Information Rate : 0.9192          \n",
              "    P-Value [Acc > NIR] : 1               \n",
              "                                          \n",
              "                  Kappa : 0.1626          \n",
              "                                          \n",
              " Mcnemar's Test P-Value : <2e-16          \n",
              "                                          \n",
              "            Sensitivity : 0.7067          \n",
              "            Specificity : 0.6795          \n",
              "         Pos Pred Value : 0.9617          \n",
              "         Neg Pred Value : 0.1692          \n",
              "             Prevalence : 0.9192          \n",
              "         Detection Rate : 0.6496          \n",
              "   Detection Prevalence : 0.6755          \n",
              "      Balanced Accuracy : 0.6931          \n",
              "                                          \n",
              "       'Positive' Class : 0               \n",
              "                                          "
            ]
          },
          "metadata": {},
          "output_type": "display_data"
        }
      ],
      "source": [
        "# Model Performance\n",
        "pred <- predict(rf_model, newdata = test, type = 'prob')\n",
        "pred <- pred[,2]\n",
        "pred_class <- factor(ifelse(pred >= 0.11, 1, 0))\n",
        "confusionMatrix(pred_class, test$Default)"
      ]
    },
    {
      "cell_type": "code",
      "execution_count": 65,
      "metadata": {
        "colab": {
          "base_uri": "https://localhost:8080/",
          "height": 454
        },
        "id": "IliSP3tzoi2g",
        "outputId": "dfc22f02-d918-4d90-f06d-ea08e24fdb92",
        "vscode": {
          "languageId": "r"
        }
      },
      "outputs": [
        {
          "data": {
            "text/html": [
              "0.76268583905821"
            ],
            "text/latex": [
              "0.76268583905821"
            ],
            "text/markdown": [
              "0.76268583905821"
            ],
            "text/plain": [
              "[1] 0.7626858"
            ]
          },
          "metadata": {},
          "output_type": "display_data"
        },
        {
          "data": {
            "image/png": "[encoded data removed]",
            "text/plain": [
              "plot without title"
            ]
          },
          "metadata": {
            "image/png": {
              "height": 420,
              "width": 420
            }
          },
          "output_type": "display_data"
        }
      ],
      "source": [
        "# ROC Curve for test dataset\n",
        "pred_roc <- prediction(predictions = pred, labels = test$Default)\n",
        "perf_roc <- performance(pred_roc, 'tpr', 'fpr')\n",
        "plot(perf_roc, print.cutoffs.at = seq(0, 1, 0.1), text.adj = c(0.2, 1))\n",
        "mtext(side = 3, text=\"Random Forest ROC Curve for test data\")\n",
        "\n",
        "auc <- performance(pred_roc, \"auc\")\n",
        "auc <- as.numeric(auc@y.values)\n",
        "auc"
      ]
    },
    {
      "cell_type": "code",
      "execution_count": 66,
      "metadata": {
        "colab": {
          "base_uri": "https://localhost:8080/",
          "height": 437
        },
        "id": "rbzH0rlWxxup",
        "outputId": "f61f4723-212c-4dad-d750-3f0f26cfbdd0",
        "vscode": {
          "languageId": "r"
        }
      },
      "outputs": [
        {
          "data": {
            "image/png": "[encoded data removed]",
            "text/plain": [
              "Plot with title \"rf_model\""
            ]
          },
          "metadata": {
            "image/png": {
              "height": 420,
              "width": 420
            }
          },
          "output_type": "display_data"
        }
      ],
      "source": [
        "varImpPlot(rf_model, scale = TRUE)"
      ]
    },
    {
      "cell_type": "code",
      "execution_count": 67,
      "metadata": {
        "id": "KV2bUz82xv4n",
        "vscode": {
          "languageId": "r"
        }
      },
      "outputs": [
        {
          "data": {
            "text/html": [
              "<table class=\"dataframe\">\n",
              "<caption>A matrix: 32 × 1 of type dbl</caption>\n",
              "<thead>\n",
              "\t<tr><th></th><th scope=col>MeanDecreaseGini</th></tr>\n",
              "</thead>\n",
              "<tbody>\n",
              "\t<tr><th scope=row>Client_Income</th><td> 533.20087</td></tr>\n",
              "\t<tr><th scope=row>Child_Count</th><td> 140.12433</td></tr>\n",
              "\t<tr><th scope=row>Credit_Amount</th><td> 627.73217</td></tr>\n",
              "\t<tr><th scope=row>Loan_Annuity</th><td> 672.55639</td></tr>\n",
              "\t<tr><th scope=row>Accompany_Client</th><td> 150.80158</td></tr>\n",
              "\t<tr><th scope=row>Client_Income_Type</th><td> 143.53886</td></tr>\n",
              "\t<tr><th scope=row>Client_Education</th><td> 125.97590</td></tr>\n",
              "\t<tr><th scope=row>Client_Marital_Status</th><td> 157.40010</td></tr>\n",
              "\t<tr><th scope=row>Client_Gender</th><td>  73.29848</td></tr>\n",
              "\t<tr><th scope=row>Loan_Contract_Type</th><td>  33.09503</td></tr>\n",
              "\t<tr><th scope=row>Client_Housing_Type</th><td> 158.86876</td></tr>\n",
              "\t<tr><th scope=row>Population_Region_Relative</th><td> 566.72803</td></tr>\n",
              "\t<tr><th scope=row>Age_Days</th><td> 720.04074</td></tr>\n",
              "\t<tr><th scope=row>Employed_Days</th><td> 754.18345</td></tr>\n",
              "\t<tr><th scope=row>Registration_Days</th><td> 738.15872</td></tr>\n",
              "\t<tr><th scope=row>ID_Days</th><td> 736.74285</td></tr>\n",
              "\t<tr><th scope=row>Own_House_Age</th><td> 521.19408</td></tr>\n",
              "\t<tr><th scope=row>Homephone_Tag</th><td>  68.93166</td></tr>\n",
              "\t<tr><th scope=row>Client_Occupation</th><td> 715.27716</td></tr>\n",
              "\t<tr><th scope=row>Client_Family_Members</th><td> 200.27653</td></tr>\n",
              "\t<tr><th scope=row>Cleint_City_Rating</th><td> 110.00905</td></tr>\n",
              "\t<tr><th scope=row>Application_Process_Day</th><td> 567.53983</td></tr>\n",
              "\t<tr><th scope=row>Application_Process_Hour</th><td> 470.39178</td></tr>\n",
              "\t<tr><th scope=row>Client_Permanent_Match_Tag</th><td>  62.26706</td></tr>\n",
              "\t<tr><th scope=row>Client_Contact_Work_Tag</th><td>  66.39337</td></tr>\n",
              "\t<tr><th scope=row>Type_Organization</th><td> 863.48326</td></tr>\n",
              "\t<tr><th scope=row>Score_Source_1</th><td> 840.20584</td></tr>\n",
              "\t<tr><th scope=row>Score_Source_2</th><td>1033.70399</td></tr>\n",
              "\t<tr><th scope=row>Score_Source_3</th><td> 991.79844</td></tr>\n",
              "\t<tr><th scope=row>Social_Circle_Default</th><td> 636.04697</td></tr>\n",
              "\t<tr><th scope=row>Phone_Change</th><td> 642.86411</td></tr>\n",
              "\t<tr><th scope=row>Credit_Bureau</th><td> 355.26242</td></tr>\n",
              "</tbody>\n",
              "</table>\n"
            ],
            "text/latex": [
              "A matrix: 32 × 1 of type dbl\n",
              "\\begin{tabular}{r|l}\n",
              "  & MeanDecreaseGini\\\\\n",
              "\\hline\n",
              "\tClient\\_Income &  533.20087\\\\\n",
              "\tChild\\_Count &  140.12433\\\\\n",
              "\tCredit\\_Amount &  627.73217\\\\\n",
              "\tLoan\\_Annuity &  672.55639\\\\\n",
              "\tAccompany\\_Client &  150.80158\\\\\n",
              "\tClient\\_Income\\_Type &  143.53886\\\\\n",
              "\tClient\\_Education &  125.97590\\\\\n",
              "\tClient\\_Marital\\_Status &  157.40010\\\\\n",
              "\tClient\\_Gender &   73.29848\\\\\n",
              "\tLoan\\_Contract\\_Type &   33.09503\\\\\n",
              "\tClient\\_Housing\\_Type &  158.86876\\\\\n",
              "\tPopulation\\_Region\\_Relative &  566.72803\\\\\n",
              "\tAge\\_Days &  720.04074\\\\\n",
              "\tEmployed\\_Days &  754.18345\\\\\n",
              "\tRegistration\\_Days &  738.15872\\\\\n",
              "\tID\\_Days &  736.74285\\\\\n",
              "\tOwn\\_House\\_Age &  521.19408\\\\\n",
              "\tHomephone\\_Tag &   68.93166\\\\\n",
              "\tClient\\_Occupation &  715.27716\\\\\n",
              "\tClient\\_Family\\_Members &  200.27653\\\\\n",
              "\tCleint\\_City\\_Rating &  110.00905\\\\\n",
              "\tApplication\\_Process\\_Day &  567.53983\\\\\n",
              "\tApplication\\_Process\\_Hour &  470.39178\\\\\n",
              "\tClient\\_Permanent\\_Match\\_Tag &   62.26706\\\\\n",
              "\tClient\\_Contact\\_Work\\_Tag &   66.39337\\\\\n",
              "\tType\\_Organization &  863.48326\\\\\n",
              "\tScore\\_Source\\_1 &  840.20584\\\\\n",
              "\tScore\\_Source\\_2 & 1033.70399\\\\\n",
              "\tScore\\_Source\\_3 &  991.79844\\\\\n",
              "\tSocial\\_Circle\\_Default &  636.04697\\\\\n",
              "\tPhone\\_Change &  642.86411\\\\\n",
              "\tCredit\\_Bureau &  355.26242\\\\\n",
              "\\end{tabular}\n"
            ],
            "text/markdown": [
              "\n",
              "A matrix: 32 × 1 of type dbl\n",
              "\n",
              "| <!--/--> | MeanDecreaseGini |\n",
              "|---|---|\n",
              "| Client_Income |  533.20087 |\n",
              "| Child_Count |  140.12433 |\n",
              "| Credit_Amount |  627.73217 |\n",
              "| Loan_Annuity |  672.55639 |\n",
              "| Accompany_Client |  150.80158 |\n",
              "| Client_Income_Type |  143.53886 |\n",
              "| Client_Education |  125.97590 |\n",
              "| Client_Marital_Status |  157.40010 |\n",
              "| Client_Gender |   73.29848 |\n",
              "| Loan_Contract_Type |   33.09503 |\n",
              "| Client_Housing_Type |  158.86876 |\n",
              "| Population_Region_Relative |  566.72803 |\n",
              "| Age_Days |  720.04074 |\n",
              "| Employed_Days |  754.18345 |\n",
              "| Registration_Days |  738.15872 |\n",
              "| ID_Days |  736.74285 |\n",
              "| Own_House_Age |  521.19408 |\n",
              "| Homephone_Tag |   68.93166 |\n",
              "| Client_Occupation |  715.27716 |\n",
              "| Client_Family_Members |  200.27653 |\n",
              "| Cleint_City_Rating |  110.00905 |\n",
              "| Application_Process_Day |  567.53983 |\n",
              "| Application_Process_Hour |  470.39178 |\n",
              "| Client_Permanent_Match_Tag |   62.26706 |\n",
              "| Client_Contact_Work_Tag |   66.39337 |\n",
              "| Type_Organization |  863.48326 |\n",
              "| Score_Source_1 |  840.20584 |\n",
              "| Score_Source_2 | 1033.70399 |\n",
              "| Score_Source_3 |  991.79844 |\n",
              "| Social_Circle_Default |  636.04697 |\n",
              "| Phone_Change |  642.86411 |\n",
              "| Credit_Bureau |  355.26242 |\n",
              "\n"
            ],
            "text/plain": [
              "                           MeanDecreaseGini\n",
              "Client_Income               533.20087      \n",
              "Child_Count                 140.12433      \n",
              "Credit_Amount               627.73217      \n",
              "Loan_Annuity                672.55639      \n",
              "Accompany_Client            150.80158      \n",
              "Client_Income_Type          143.53886      \n",
              "Client_Education            125.97590      \n",
              "Client_Marital_Status       157.40010      \n",
              "Client_Gender                73.29848      \n",
              "Loan_Contract_Type           33.09503      \n",
              "Client_Housing_Type         158.86876      \n",
              "Population_Region_Relative  566.72803      \n",
              "Age_Days                    720.04074      \n",
              "Employed_Days               754.18345      \n",
              "Registration_Days           738.15872      \n",
              "ID_Days                     736.74285      \n",
              "Own_House_Age               521.19408      \n",
              "Homephone_Tag                68.93166      \n",
              "Client_Occupation           715.27716      \n",
              "Client_Family_Members       200.27653      \n",
              "Cleint_City_Rating          110.00905      \n",
              "Application_Process_Day     567.53983      \n",
              "Application_Process_Hour    470.39178      \n",
              "Client_Permanent_Match_Tag   62.26706      \n",
              "Client_Contact_Work_Tag      66.39337      \n",
              "Type_Organization           863.48326      \n",
              "Score_Source_1              840.20584      \n",
              "Score_Source_2             1033.70399      \n",
              "Score_Source_3              991.79844      \n",
              "Social_Circle_Default       636.04697      \n",
              "Phone_Change                642.86411      \n",
              "Credit_Bureau               355.26242      "
            ]
          },
          "metadata": {},
          "output_type": "display_data"
        }
      ],
      "source": [
        "importance(rf_model)\n"
      ]
    },
    {
      "cell_type": "markdown",
      "metadata": {},
      "source": [
        "## 7. Comparison"
      ]
    },
    {
      "cell_type": "code",
      "execution_count": 68,
      "metadata": {
        "vscode": {
          "languageId": "r"
        }
      },
      "outputs": [],
      "source": [
        "#Loading Dataset\n",
        "df <- read.csv('Train_Imputed_norm.csv', stringsAsFactors = T)\n",
        "df$Default <- factor(df$Default)"
      ]
    },
    {
      "cell_type": "code",
      "execution_count": 69,
      "metadata": {
        "vscode": {
          "languageId": "r"
        }
      },
      "outputs": [],
      "source": [
        "# Split dataset to train and test Sets\n",
        "set.seed(500)\n",
        "spt <- sample.split(df$Default, SplitRatio = 0.8)\n",
        "train <- subset(df, spt == T)\n",
        "test  <- subset(df, spt == F)\n",
        "rm(spt)"
      ]
    },
    {
      "cell_type": "code",
      "execution_count": 70,
      "metadata": {
        "vscode": {
          "languageId": "r"
        }
      },
      "outputs": [
        {
          "data": {
            "image/png": "[encoded data removed]",
            "text/plain": [
              "plot without title"
            ]
          },
          "metadata": {
            "image/png": {
              "height": 420,
              "width": 420
            }
          },
          "output_type": "display_data"
        }
      ],
      "source": [
        "pred <- predict(lr_model, newdata = test, type = 'response')\n",
        "pred_roc <- prediction(predictions = pred, labels = test$Default)\n",
        "perf_roc <- performance(pred_roc, 'tpr', 'fpr')\n",
        "plot(perf_roc, col = 'red')\n",
        "\n",
        "# Normalize Num. Variables\n",
        "cols <- num_cols\n",
        "pre_proc_val <- preProcess(train[,cols], method = c(\"center\", \"scale\"))\n",
        "\n",
        "train[,cols] = predict(pre_proc_val, train[,cols])\n",
        "test[,cols] = predict(pre_proc_val, test[,cols])\n",
        "\n",
        "# Converting Cat. Variables to Factor\n",
        "train[cat_cols] <- lapply(train[cat_cols], factor)\n",
        "test[cat_cols] <- lapply(test[cat_cols], factor)\n",
        "\n",
        "pred <- predict(t_model, newdata = test, type = 'prob')\n",
        "pred <- pred[,2]\n",
        "pred_roc <- prediction(predictions = pred, labels = test$Default)\n",
        "perf_roc <- performance(pred_roc, 'tpr', 'fpr')\n",
        "plot(perf_roc, col = 'green', add = T)\n",
        "\n",
        "pred <- predict(rf_model, newdata = test, type = 'prob')\n",
        "pred <- pred[,2]\n",
        "pred_roc <- prediction(predictions = pred, labels = test$Default)\n",
        "perf_roc <- performance(pred_roc, 'tpr', 'fpr')\n",
        "plot(perf_roc, col = 'blue', add = T)\n",
        "\n",
        "legend(\"topleft\", legend = c('Logistic Regression', 'Decision Tree', 'Random Forest'),\n",
        "       col = c('red', 'green', 'blue'), lty = 1:2, cex=0.8)\n",
        "mtext(side = 3, text=\"ROC Chart Comparison\")\n"
      ]
    }
  ],
  "metadata": {
    "colab": {
      "name": "BA_Project_nb_v3.0.ipynb",
      "provenance": []
    },
    "kernelspec": {
      "display_name": "R",
      "language": "R",
      "name": "ir"
    },
    "language_info": {
      "codemirror_mode": "r",
      "file_extension": ".r",
      "mimetype": "text/x-r-source",
      "name": "R",
      "pygments_lexer": "r",
      "version": "4.1.3"
    }
  },
  "nbformat": 4,
  "nbformat_minor": 0
}
